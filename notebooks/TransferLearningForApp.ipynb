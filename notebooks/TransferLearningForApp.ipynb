{
  "nbformat": 4,
  "nbformat_minor": 0,
  "metadata": {
    "colab": {
      "provenance": []
    },
    "kernelspec": {
      "name": "python3",
      "display_name": "Python 3"
    },
    "language_info": {
      "name": "python"
    },
    "widgets": {
      "application/vnd.jupyter.widget-state+json": {
        "18a83df33c3e481e936b8fb9445e8a69": {
          "model_module": "@jupyter-widgets/controls",
          "model_name": "HBoxModel",
          "model_module_version": "2.0.0",
          "state": {
            "_dom_classes": [],
            "_model_module": "@jupyter-widgets/controls",
            "_model_module_version": "2.0.0",
            "_model_name": "HBoxModel",
            "_view_count": null,
            "_view_module": "@jupyter-widgets/controls",
            "_view_module_version": "2.0.0",
            "_view_name": "HBoxView",
            "box_style": "",
            "children": [
              "IPY_MODEL_abccbe60a17947a4a73501172d33ad01",
              "IPY_MODEL_a7f5b192298a40d19acaab3ead52dae9",
              "IPY_MODEL_4514a167080a4c3daeb78cf8d646a3d9"
            ],
            "layout": "IPY_MODEL_783787b7923c4d998359829861dc07e6",
            "tabbable": null,
            "tooltip": null
          }
        },
        "abccbe60a17947a4a73501172d33ad01": {
          "model_module": "@jupyter-widgets/controls",
          "model_name": "HTMLModel",
          "model_module_version": "2.0.0",
          "state": {
            "_dom_classes": [],
            "_model_module": "@jupyter-widgets/controls",
            "_model_module_version": "2.0.0",
            "_model_name": "HTMLModel",
            "_view_count": null,
            "_view_module": "@jupyter-widgets/controls",
            "_view_module_version": "2.0.0",
            "_view_name": "HTMLView",
            "description": "",
            "description_allow_html": false,
            "layout": "IPY_MODEL_8ab3259273924c97a609bfcf35b461a6",
            "placeholder": "​",
            "style": "IPY_MODEL_0dde7b6ba1524ed0a19c2ff50d5da4b1",
            "tabbable": null,
            "tooltip": null,
            "value": "100%"
          }
        },
        "a7f5b192298a40d19acaab3ead52dae9": {
          "model_module": "@jupyter-widgets/controls",
          "model_name": "FloatProgressModel",
          "model_module_version": "2.0.0",
          "state": {
            "_dom_classes": [],
            "_model_module": "@jupyter-widgets/controls",
            "_model_module_version": "2.0.0",
            "_model_name": "FloatProgressModel",
            "_view_count": null,
            "_view_module": "@jupyter-widgets/controls",
            "_view_module_version": "2.0.0",
            "_view_name": "ProgressView",
            "bar_style": "success",
            "description": "",
            "description_allow_html": false,
            "layout": "IPY_MODEL_3c43233fece047908f426b2fd97ebf49",
            "max": 102,
            "min": 0,
            "orientation": "horizontal",
            "style": "IPY_MODEL_de8ec1654d7d411c9f4cb0debe2e8137",
            "tabbable": null,
            "tooltip": null,
            "value": 102
          }
        },
        "4514a167080a4c3daeb78cf8d646a3d9": {
          "model_module": "@jupyter-widgets/controls",
          "model_name": "HTMLModel",
          "model_module_version": "2.0.0",
          "state": {
            "_dom_classes": [],
            "_model_module": "@jupyter-widgets/controls",
            "_model_module_version": "2.0.0",
            "_model_name": "HTMLModel",
            "_view_count": null,
            "_view_module": "@jupyter-widgets/controls",
            "_view_module_version": "2.0.0",
            "_view_name": "HTMLView",
            "description": "",
            "description_allow_html": false,
            "layout": "IPY_MODEL_b50122da3cf442c6943975c7aaf1f2d7",
            "placeholder": "​",
            "style": "IPY_MODEL_d2cd795c48534955bdb66f3cbc664d3e",
            "tabbable": null,
            "tooltip": null,
            "value": " 102/102 [00:19&lt;00:00,  6.07it/s]"
          }
        },
        "783787b7923c4d998359829861dc07e6": {
          "model_module": "@jupyter-widgets/base",
          "model_name": "LayoutModel",
          "model_module_version": "2.0.0",
          "state": {
            "_model_module": "@jupyter-widgets/base",
            "_model_module_version": "2.0.0",
            "_model_name": "LayoutModel",
            "_view_count": null,
            "_view_module": "@jupyter-widgets/base",
            "_view_module_version": "2.0.0",
            "_view_name": "LayoutView",
            "align_content": null,
            "align_items": null,
            "align_self": null,
            "border_bottom": null,
            "border_left": null,
            "border_right": null,
            "border_top": null,
            "bottom": null,
            "display": null,
            "flex": null,
            "flex_flow": null,
            "grid_area": null,
            "grid_auto_columns": null,
            "grid_auto_flow": null,
            "grid_auto_rows": null,
            "grid_column": null,
            "grid_gap": null,
            "grid_row": null,
            "grid_template_areas": null,
            "grid_template_columns": null,
            "grid_template_rows": null,
            "height": null,
            "justify_content": null,
            "justify_items": null,
            "left": null,
            "margin": null,
            "max_height": null,
            "max_width": null,
            "min_height": null,
            "min_width": null,
            "object_fit": null,
            "object_position": null,
            "order": null,
            "overflow": null,
            "padding": null,
            "right": null,
            "top": null,
            "visibility": null,
            "width": null
          }
        },
        "8ab3259273924c97a609bfcf35b461a6": {
          "model_module": "@jupyter-widgets/base",
          "model_name": "LayoutModel",
          "model_module_version": "2.0.0",
          "state": {
            "_model_module": "@jupyter-widgets/base",
            "_model_module_version": "2.0.0",
            "_model_name": "LayoutModel",
            "_view_count": null,
            "_view_module": "@jupyter-widgets/base",
            "_view_module_version": "2.0.0",
            "_view_name": "LayoutView",
            "align_content": null,
            "align_items": null,
            "align_self": null,
            "border_bottom": null,
            "border_left": null,
            "border_right": null,
            "border_top": null,
            "bottom": null,
            "display": null,
            "flex": null,
            "flex_flow": null,
            "grid_area": null,
            "grid_auto_columns": null,
            "grid_auto_flow": null,
            "grid_auto_rows": null,
            "grid_column": null,
            "grid_gap": null,
            "grid_row": null,
            "grid_template_areas": null,
            "grid_template_columns": null,
            "grid_template_rows": null,
            "height": null,
            "justify_content": null,
            "justify_items": null,
            "left": null,
            "margin": null,
            "max_height": null,
            "max_width": null,
            "min_height": null,
            "min_width": null,
            "object_fit": null,
            "object_position": null,
            "order": null,
            "overflow": null,
            "padding": null,
            "right": null,
            "top": null,
            "visibility": null,
            "width": null
          }
        },
        "0dde7b6ba1524ed0a19c2ff50d5da4b1": {
          "model_module": "@jupyter-widgets/controls",
          "model_name": "HTMLStyleModel",
          "model_module_version": "2.0.0",
          "state": {
            "_model_module": "@jupyter-widgets/controls",
            "_model_module_version": "2.0.0",
            "_model_name": "HTMLStyleModel",
            "_view_count": null,
            "_view_module": "@jupyter-widgets/base",
            "_view_module_version": "2.0.0",
            "_view_name": "StyleView",
            "background": null,
            "description_width": "",
            "font_size": null,
            "text_color": null
          }
        },
        "3c43233fece047908f426b2fd97ebf49": {
          "model_module": "@jupyter-widgets/base",
          "model_name": "LayoutModel",
          "model_module_version": "2.0.0",
          "state": {
            "_model_module": "@jupyter-widgets/base",
            "_model_module_version": "2.0.0",
            "_model_name": "LayoutModel",
            "_view_count": null,
            "_view_module": "@jupyter-widgets/base",
            "_view_module_version": "2.0.0",
            "_view_name": "LayoutView",
            "align_content": null,
            "align_items": null,
            "align_self": null,
            "border_bottom": null,
            "border_left": null,
            "border_right": null,
            "border_top": null,
            "bottom": null,
            "display": null,
            "flex": null,
            "flex_flow": null,
            "grid_area": null,
            "grid_auto_columns": null,
            "grid_auto_flow": null,
            "grid_auto_rows": null,
            "grid_column": null,
            "grid_gap": null,
            "grid_row": null,
            "grid_template_areas": null,
            "grid_template_columns": null,
            "grid_template_rows": null,
            "height": null,
            "justify_content": null,
            "justify_items": null,
            "left": null,
            "margin": null,
            "max_height": null,
            "max_width": null,
            "min_height": null,
            "min_width": null,
            "object_fit": null,
            "object_position": null,
            "order": null,
            "overflow": null,
            "padding": null,
            "right": null,
            "top": null,
            "visibility": null,
            "width": null
          }
        },
        "de8ec1654d7d411c9f4cb0debe2e8137": {
          "model_module": "@jupyter-widgets/controls",
          "model_name": "ProgressStyleModel",
          "model_module_version": "2.0.0",
          "state": {
            "_model_module": "@jupyter-widgets/controls",
            "_model_module_version": "2.0.0",
            "_model_name": "ProgressStyleModel",
            "_view_count": null,
            "_view_module": "@jupyter-widgets/base",
            "_view_module_version": "2.0.0",
            "_view_name": "StyleView",
            "bar_color": null,
            "description_width": ""
          }
        },
        "b50122da3cf442c6943975c7aaf1f2d7": {
          "model_module": "@jupyter-widgets/base",
          "model_name": "LayoutModel",
          "model_module_version": "2.0.0",
          "state": {
            "_model_module": "@jupyter-widgets/base",
            "_model_module_version": "2.0.0",
            "_model_name": "LayoutModel",
            "_view_count": null,
            "_view_module": "@jupyter-widgets/base",
            "_view_module_version": "2.0.0",
            "_view_name": "LayoutView",
            "align_content": null,
            "align_items": null,
            "align_self": null,
            "border_bottom": null,
            "border_left": null,
            "border_right": null,
            "border_top": null,
            "bottom": null,
            "display": null,
            "flex": null,
            "flex_flow": null,
            "grid_area": null,
            "grid_auto_columns": null,
            "grid_auto_flow": null,
            "grid_auto_rows": null,
            "grid_column": null,
            "grid_gap": null,
            "grid_row": null,
            "grid_template_areas": null,
            "grid_template_columns": null,
            "grid_template_rows": null,
            "height": null,
            "justify_content": null,
            "justify_items": null,
            "left": null,
            "margin": null,
            "max_height": null,
            "max_width": null,
            "min_height": null,
            "min_width": null,
            "object_fit": null,
            "object_position": null,
            "order": null,
            "overflow": null,
            "padding": null,
            "right": null,
            "top": null,
            "visibility": null,
            "width": null
          }
        },
        "d2cd795c48534955bdb66f3cbc664d3e": {
          "model_module": "@jupyter-widgets/controls",
          "model_name": "HTMLStyleModel",
          "model_module_version": "2.0.0",
          "state": {
            "_model_module": "@jupyter-widgets/controls",
            "_model_module_version": "2.0.0",
            "_model_name": "HTMLStyleModel",
            "_view_count": null,
            "_view_module": "@jupyter-widgets/base",
            "_view_module_version": "2.0.0",
            "_view_name": "StyleView",
            "background": null,
            "description_width": "",
            "font_size": null,
            "text_color": null
          }
        },
        "9c12af3947664201b5308949b866ad92": {
          "model_module": "@jupyter-widgets/controls",
          "model_name": "HBoxModel",
          "model_module_version": "2.0.0",
          "state": {
            "_dom_classes": [],
            "_model_module": "@jupyter-widgets/controls",
            "_model_module_version": "2.0.0",
            "_model_name": "HBoxModel",
            "_view_count": null,
            "_view_module": "@jupyter-widgets/controls",
            "_view_module_version": "2.0.0",
            "_view_name": "HBoxView",
            "box_style": "",
            "children": [
              "IPY_MODEL_a05da77ebd094b3e93e34731e25e4df8",
              "IPY_MODEL_15a75cebd7a84315b2fb21fafc03dea4",
              "IPY_MODEL_476cd4e9cac34640a173562050ce9751"
            ],
            "layout": "IPY_MODEL_0243c99bd4e04eedb8b5d3fa68d6ab7e",
            "tabbable": null,
            "tooltip": null
          }
        },
        "a05da77ebd094b3e93e34731e25e4df8": {
          "model_module": "@jupyter-widgets/controls",
          "model_name": "HTMLModel",
          "model_module_version": "2.0.0",
          "state": {
            "_dom_classes": [],
            "_model_module": "@jupyter-widgets/controls",
            "_model_module_version": "2.0.0",
            "_model_name": "HTMLModel",
            "_view_count": null,
            "_view_module": "@jupyter-widgets/controls",
            "_view_module_version": "2.0.0",
            "_view_name": "HTMLView",
            "description": "",
            "description_allow_html": false,
            "layout": "IPY_MODEL_ae1c6c8121724a9ea7196f7125e7c9bf",
            "placeholder": "​",
            "style": "IPY_MODEL_9fdf0a93bba14988a64e78d18a08e821",
            "tabbable": null,
            "tooltip": null,
            "value": "100%"
          }
        },
        "15a75cebd7a84315b2fb21fafc03dea4": {
          "model_module": "@jupyter-widgets/controls",
          "model_name": "FloatProgressModel",
          "model_module_version": "2.0.0",
          "state": {
            "_dom_classes": [],
            "_model_module": "@jupyter-widgets/controls",
            "_model_module_version": "2.0.0",
            "_model_name": "FloatProgressModel",
            "_view_count": null,
            "_view_module": "@jupyter-widgets/controls",
            "_view_module_version": "2.0.0",
            "_view_name": "ProgressView",
            "bar_style": "success",
            "description": "",
            "description_allow_html": false,
            "layout": "IPY_MODEL_221cb3eacbff406096054e4692164ebf",
            "max": 154,
            "min": 0,
            "orientation": "horizontal",
            "style": "IPY_MODEL_1d84a1918e3b47429553c5c515f3188b",
            "tabbable": null,
            "tooltip": null,
            "value": 154
          }
        },
        "476cd4e9cac34640a173562050ce9751": {
          "model_module": "@jupyter-widgets/controls",
          "model_name": "HTMLModel",
          "model_module_version": "2.0.0",
          "state": {
            "_dom_classes": [],
            "_model_module": "@jupyter-widgets/controls",
            "_model_module_version": "2.0.0",
            "_model_name": "HTMLModel",
            "_view_count": null,
            "_view_module": "@jupyter-widgets/controls",
            "_view_module_version": "2.0.0",
            "_view_name": "HTMLView",
            "description": "",
            "description_allow_html": false,
            "layout": "IPY_MODEL_9f73d522c8624db8bd4a577f848473c1",
            "placeholder": "​",
            "style": "IPY_MODEL_c5819c0d146047ed840eaa5699511d5b",
            "tabbable": null,
            "tooltip": null,
            "value": " 154/154 [00:20&lt;00:00,  8.19it/s]"
          }
        },
        "0243c99bd4e04eedb8b5d3fa68d6ab7e": {
          "model_module": "@jupyter-widgets/base",
          "model_name": "LayoutModel",
          "model_module_version": "2.0.0",
          "state": {
            "_model_module": "@jupyter-widgets/base",
            "_model_module_version": "2.0.0",
            "_model_name": "LayoutModel",
            "_view_count": null,
            "_view_module": "@jupyter-widgets/base",
            "_view_module_version": "2.0.0",
            "_view_name": "LayoutView",
            "align_content": null,
            "align_items": null,
            "align_self": null,
            "border_bottom": null,
            "border_left": null,
            "border_right": null,
            "border_top": null,
            "bottom": null,
            "display": null,
            "flex": null,
            "flex_flow": null,
            "grid_area": null,
            "grid_auto_columns": null,
            "grid_auto_flow": null,
            "grid_auto_rows": null,
            "grid_column": null,
            "grid_gap": null,
            "grid_row": null,
            "grid_template_areas": null,
            "grid_template_columns": null,
            "grid_template_rows": null,
            "height": null,
            "justify_content": null,
            "justify_items": null,
            "left": null,
            "margin": null,
            "max_height": null,
            "max_width": null,
            "min_height": null,
            "min_width": null,
            "object_fit": null,
            "object_position": null,
            "order": null,
            "overflow": null,
            "padding": null,
            "right": null,
            "top": null,
            "visibility": null,
            "width": null
          }
        },
        "ae1c6c8121724a9ea7196f7125e7c9bf": {
          "model_module": "@jupyter-widgets/base",
          "model_name": "LayoutModel",
          "model_module_version": "2.0.0",
          "state": {
            "_model_module": "@jupyter-widgets/base",
            "_model_module_version": "2.0.0",
            "_model_name": "LayoutModel",
            "_view_count": null,
            "_view_module": "@jupyter-widgets/base",
            "_view_module_version": "2.0.0",
            "_view_name": "LayoutView",
            "align_content": null,
            "align_items": null,
            "align_self": null,
            "border_bottom": null,
            "border_left": null,
            "border_right": null,
            "border_top": null,
            "bottom": null,
            "display": null,
            "flex": null,
            "flex_flow": null,
            "grid_area": null,
            "grid_auto_columns": null,
            "grid_auto_flow": null,
            "grid_auto_rows": null,
            "grid_column": null,
            "grid_gap": null,
            "grid_row": null,
            "grid_template_areas": null,
            "grid_template_columns": null,
            "grid_template_rows": null,
            "height": null,
            "justify_content": null,
            "justify_items": null,
            "left": null,
            "margin": null,
            "max_height": null,
            "max_width": null,
            "min_height": null,
            "min_width": null,
            "object_fit": null,
            "object_position": null,
            "order": null,
            "overflow": null,
            "padding": null,
            "right": null,
            "top": null,
            "visibility": null,
            "width": null
          }
        },
        "9fdf0a93bba14988a64e78d18a08e821": {
          "model_module": "@jupyter-widgets/controls",
          "model_name": "HTMLStyleModel",
          "model_module_version": "2.0.0",
          "state": {
            "_model_module": "@jupyter-widgets/controls",
            "_model_module_version": "2.0.0",
            "_model_name": "HTMLStyleModel",
            "_view_count": null,
            "_view_module": "@jupyter-widgets/base",
            "_view_module_version": "2.0.0",
            "_view_name": "StyleView",
            "background": null,
            "description_width": "",
            "font_size": null,
            "text_color": null
          }
        },
        "221cb3eacbff406096054e4692164ebf": {
          "model_module": "@jupyter-widgets/base",
          "model_name": "LayoutModel",
          "model_module_version": "2.0.0",
          "state": {
            "_model_module": "@jupyter-widgets/base",
            "_model_module_version": "2.0.0",
            "_model_name": "LayoutModel",
            "_view_count": null,
            "_view_module": "@jupyter-widgets/base",
            "_view_module_version": "2.0.0",
            "_view_name": "LayoutView",
            "align_content": null,
            "align_items": null,
            "align_self": null,
            "border_bottom": null,
            "border_left": null,
            "border_right": null,
            "border_top": null,
            "bottom": null,
            "display": null,
            "flex": null,
            "flex_flow": null,
            "grid_area": null,
            "grid_auto_columns": null,
            "grid_auto_flow": null,
            "grid_auto_rows": null,
            "grid_column": null,
            "grid_gap": null,
            "grid_row": null,
            "grid_template_areas": null,
            "grid_template_columns": null,
            "grid_template_rows": null,
            "height": null,
            "justify_content": null,
            "justify_items": null,
            "left": null,
            "margin": null,
            "max_height": null,
            "max_width": null,
            "min_height": null,
            "min_width": null,
            "object_fit": null,
            "object_position": null,
            "order": null,
            "overflow": null,
            "padding": null,
            "right": null,
            "top": null,
            "visibility": null,
            "width": null
          }
        },
        "1d84a1918e3b47429553c5c515f3188b": {
          "model_module": "@jupyter-widgets/controls",
          "model_name": "ProgressStyleModel",
          "model_module_version": "2.0.0",
          "state": {
            "_model_module": "@jupyter-widgets/controls",
            "_model_module_version": "2.0.0",
            "_model_name": "ProgressStyleModel",
            "_view_count": null,
            "_view_module": "@jupyter-widgets/base",
            "_view_module_version": "2.0.0",
            "_view_name": "StyleView",
            "bar_color": null,
            "description_width": ""
          }
        },
        "9f73d522c8624db8bd4a577f848473c1": {
          "model_module": "@jupyter-widgets/base",
          "model_name": "LayoutModel",
          "model_module_version": "2.0.0",
          "state": {
            "_model_module": "@jupyter-widgets/base",
            "_model_module_version": "2.0.0",
            "_model_name": "LayoutModel",
            "_view_count": null,
            "_view_module": "@jupyter-widgets/base",
            "_view_module_version": "2.0.0",
            "_view_name": "LayoutView",
            "align_content": null,
            "align_items": null,
            "align_self": null,
            "border_bottom": null,
            "border_left": null,
            "border_right": null,
            "border_top": null,
            "bottom": null,
            "display": null,
            "flex": null,
            "flex_flow": null,
            "grid_area": null,
            "grid_auto_columns": null,
            "grid_auto_flow": null,
            "grid_auto_rows": null,
            "grid_column": null,
            "grid_gap": null,
            "grid_row": null,
            "grid_template_areas": null,
            "grid_template_columns": null,
            "grid_template_rows": null,
            "height": null,
            "justify_content": null,
            "justify_items": null,
            "left": null,
            "margin": null,
            "max_height": null,
            "max_width": null,
            "min_height": null,
            "min_width": null,
            "object_fit": null,
            "object_position": null,
            "order": null,
            "overflow": null,
            "padding": null,
            "right": null,
            "top": null,
            "visibility": null,
            "width": null
          }
        },
        "c5819c0d146047ed840eaa5699511d5b": {
          "model_module": "@jupyter-widgets/controls",
          "model_name": "HTMLStyleModel",
          "model_module_version": "2.0.0",
          "state": {
            "_model_module": "@jupyter-widgets/controls",
            "_model_module_version": "2.0.0",
            "_model_name": "HTMLStyleModel",
            "_view_count": null,
            "_view_module": "@jupyter-widgets/base",
            "_view_module_version": "2.0.0",
            "_view_name": "StyleView",
            "background": null,
            "description_width": "",
            "font_size": null,
            "text_color": null
          }
        },
        "42bde6663d69495f9ed7929cf1fe55b8": {
          "model_module": "@jupyter-widgets/controls",
          "model_name": "HBoxModel",
          "model_module_version": "2.0.0",
          "state": {
            "_dom_classes": [],
            "_model_module": "@jupyter-widgets/controls",
            "_model_module_version": "2.0.0",
            "_model_name": "HBoxModel",
            "_view_count": null,
            "_view_module": "@jupyter-widgets/controls",
            "_view_module_version": "2.0.0",
            "_view_name": "HBoxView",
            "box_style": "",
            "children": [
              "IPY_MODEL_1b68eb5422bb48d7b02c22b75ed24e53",
              "IPY_MODEL_f629319241cf4d02bcd5d6331baf7dca",
              "IPY_MODEL_266ea64a648a43cabc1e4bc8b36cfbf5"
            ],
            "layout": "IPY_MODEL_fca8e93538ff4547a08a3123b92d9b3d",
            "tabbable": null,
            "tooltip": null
          }
        },
        "1b68eb5422bb48d7b02c22b75ed24e53": {
          "model_module": "@jupyter-widgets/controls",
          "model_name": "HTMLModel",
          "model_module_version": "2.0.0",
          "state": {
            "_dom_classes": [],
            "_model_module": "@jupyter-widgets/controls",
            "_model_module_version": "2.0.0",
            "_model_name": "HTMLModel",
            "_view_count": null,
            "_view_module": "@jupyter-widgets/controls",
            "_view_module_version": "2.0.0",
            "_view_name": "HTMLView",
            "description": "",
            "description_allow_html": false,
            "layout": "IPY_MODEL_b6a4ee223a4d4dc981bafa02307e64db",
            "placeholder": "​",
            "style": "IPY_MODEL_a39624e569b54bd98497acd062537ae9",
            "tabbable": null,
            "tooltip": null,
            "value": "100%"
          }
        },
        "f629319241cf4d02bcd5d6331baf7dca": {
          "model_module": "@jupyter-widgets/controls",
          "model_name": "FloatProgressModel",
          "model_module_version": "2.0.0",
          "state": {
            "_dom_classes": [],
            "_model_module": "@jupyter-widgets/controls",
            "_model_module_version": "2.0.0",
            "_model_name": "FloatProgressModel",
            "_view_count": null,
            "_view_module": "@jupyter-widgets/controls",
            "_view_module_version": "2.0.0",
            "_view_name": "ProgressView",
            "bar_style": "success",
            "description": "",
            "description_allow_html": false,
            "layout": "IPY_MODEL_39a21cf4924d44a79e8aa43fb19209f5",
            "max": 74,
            "min": 0,
            "orientation": "horizontal",
            "style": "IPY_MODEL_d1eee4cb89d2417299c0b78c0560df87",
            "tabbable": null,
            "tooltip": null,
            "value": 74
          }
        },
        "266ea64a648a43cabc1e4bc8b36cfbf5": {
          "model_module": "@jupyter-widgets/controls",
          "model_name": "HTMLModel",
          "model_module_version": "2.0.0",
          "state": {
            "_dom_classes": [],
            "_model_module": "@jupyter-widgets/controls",
            "_model_module_version": "2.0.0",
            "_model_name": "HTMLModel",
            "_view_count": null,
            "_view_module": "@jupyter-widgets/controls",
            "_view_module_version": "2.0.0",
            "_view_name": "HTMLView",
            "description": "",
            "description_allow_html": false,
            "layout": "IPY_MODEL_5527c278199d43d3a8c3a93af6bbb662",
            "placeholder": "​",
            "style": "IPY_MODEL_0b78d365136844a7baf0cb96301c6998",
            "tabbable": null,
            "tooltip": null,
            "value": " 74/74 [00:10&lt;00:00,  7.23it/s]"
          }
        },
        "fca8e93538ff4547a08a3123b92d9b3d": {
          "model_module": "@jupyter-widgets/base",
          "model_name": "LayoutModel",
          "model_module_version": "2.0.0",
          "state": {
            "_model_module": "@jupyter-widgets/base",
            "_model_module_version": "2.0.0",
            "_model_name": "LayoutModel",
            "_view_count": null,
            "_view_module": "@jupyter-widgets/base",
            "_view_module_version": "2.0.0",
            "_view_name": "LayoutView",
            "align_content": null,
            "align_items": null,
            "align_self": null,
            "border_bottom": null,
            "border_left": null,
            "border_right": null,
            "border_top": null,
            "bottom": null,
            "display": null,
            "flex": null,
            "flex_flow": null,
            "grid_area": null,
            "grid_auto_columns": null,
            "grid_auto_flow": null,
            "grid_auto_rows": null,
            "grid_column": null,
            "grid_gap": null,
            "grid_row": null,
            "grid_template_areas": null,
            "grid_template_columns": null,
            "grid_template_rows": null,
            "height": null,
            "justify_content": null,
            "justify_items": null,
            "left": null,
            "margin": null,
            "max_height": null,
            "max_width": null,
            "min_height": null,
            "min_width": null,
            "object_fit": null,
            "object_position": null,
            "order": null,
            "overflow": null,
            "padding": null,
            "right": null,
            "top": null,
            "visibility": null,
            "width": null
          }
        },
        "b6a4ee223a4d4dc981bafa02307e64db": {
          "model_module": "@jupyter-widgets/base",
          "model_name": "LayoutModel",
          "model_module_version": "2.0.0",
          "state": {
            "_model_module": "@jupyter-widgets/base",
            "_model_module_version": "2.0.0",
            "_model_name": "LayoutModel",
            "_view_count": null,
            "_view_module": "@jupyter-widgets/base",
            "_view_module_version": "2.0.0",
            "_view_name": "LayoutView",
            "align_content": null,
            "align_items": null,
            "align_self": null,
            "border_bottom": null,
            "border_left": null,
            "border_right": null,
            "border_top": null,
            "bottom": null,
            "display": null,
            "flex": null,
            "flex_flow": null,
            "grid_area": null,
            "grid_auto_columns": null,
            "grid_auto_flow": null,
            "grid_auto_rows": null,
            "grid_column": null,
            "grid_gap": null,
            "grid_row": null,
            "grid_template_areas": null,
            "grid_template_columns": null,
            "grid_template_rows": null,
            "height": null,
            "justify_content": null,
            "justify_items": null,
            "left": null,
            "margin": null,
            "max_height": null,
            "max_width": null,
            "min_height": null,
            "min_width": null,
            "object_fit": null,
            "object_position": null,
            "order": null,
            "overflow": null,
            "padding": null,
            "right": null,
            "top": null,
            "visibility": null,
            "width": null
          }
        },
        "a39624e569b54bd98497acd062537ae9": {
          "model_module": "@jupyter-widgets/controls",
          "model_name": "HTMLStyleModel",
          "model_module_version": "2.0.0",
          "state": {
            "_model_module": "@jupyter-widgets/controls",
            "_model_module_version": "2.0.0",
            "_model_name": "HTMLStyleModel",
            "_view_count": null,
            "_view_module": "@jupyter-widgets/base",
            "_view_module_version": "2.0.0",
            "_view_name": "StyleView",
            "background": null,
            "description_width": "",
            "font_size": null,
            "text_color": null
          }
        },
        "39a21cf4924d44a79e8aa43fb19209f5": {
          "model_module": "@jupyter-widgets/base",
          "model_name": "LayoutModel",
          "model_module_version": "2.0.0",
          "state": {
            "_model_module": "@jupyter-widgets/base",
            "_model_module_version": "2.0.0",
            "_model_name": "LayoutModel",
            "_view_count": null,
            "_view_module": "@jupyter-widgets/base",
            "_view_module_version": "2.0.0",
            "_view_name": "LayoutView",
            "align_content": null,
            "align_items": null,
            "align_self": null,
            "border_bottom": null,
            "border_left": null,
            "border_right": null,
            "border_top": null,
            "bottom": null,
            "display": null,
            "flex": null,
            "flex_flow": null,
            "grid_area": null,
            "grid_auto_columns": null,
            "grid_auto_flow": null,
            "grid_auto_rows": null,
            "grid_column": null,
            "grid_gap": null,
            "grid_row": null,
            "grid_template_areas": null,
            "grid_template_columns": null,
            "grid_template_rows": null,
            "height": null,
            "justify_content": null,
            "justify_items": null,
            "left": null,
            "margin": null,
            "max_height": null,
            "max_width": null,
            "min_height": null,
            "min_width": null,
            "object_fit": null,
            "object_position": null,
            "order": null,
            "overflow": null,
            "padding": null,
            "right": null,
            "top": null,
            "visibility": null,
            "width": null
          }
        },
        "d1eee4cb89d2417299c0b78c0560df87": {
          "model_module": "@jupyter-widgets/controls",
          "model_name": "ProgressStyleModel",
          "model_module_version": "2.0.0",
          "state": {
            "_model_module": "@jupyter-widgets/controls",
            "_model_module_version": "2.0.0",
            "_model_name": "ProgressStyleModel",
            "_view_count": null,
            "_view_module": "@jupyter-widgets/base",
            "_view_module_version": "2.0.0",
            "_view_name": "StyleView",
            "bar_color": null,
            "description_width": ""
          }
        },
        "5527c278199d43d3a8c3a93af6bbb662": {
          "model_module": "@jupyter-widgets/base",
          "model_name": "LayoutModel",
          "model_module_version": "2.0.0",
          "state": {
            "_model_module": "@jupyter-widgets/base",
            "_model_module_version": "2.0.0",
            "_model_name": "LayoutModel",
            "_view_count": null,
            "_view_module": "@jupyter-widgets/base",
            "_view_module_version": "2.0.0",
            "_view_name": "LayoutView",
            "align_content": null,
            "align_items": null,
            "align_self": null,
            "border_bottom": null,
            "border_left": null,
            "border_right": null,
            "border_top": null,
            "bottom": null,
            "display": null,
            "flex": null,
            "flex_flow": null,
            "grid_area": null,
            "grid_auto_columns": null,
            "grid_auto_flow": null,
            "grid_auto_rows": null,
            "grid_column": null,
            "grid_gap": null,
            "grid_row": null,
            "grid_template_areas": null,
            "grid_template_columns": null,
            "grid_template_rows": null,
            "height": null,
            "justify_content": null,
            "justify_items": null,
            "left": null,
            "margin": null,
            "max_height": null,
            "max_width": null,
            "min_height": null,
            "min_width": null,
            "object_fit": null,
            "object_position": null,
            "order": null,
            "overflow": null,
            "padding": null,
            "right": null,
            "top": null,
            "visibility": null,
            "width": null
          }
        },
        "0b78d365136844a7baf0cb96301c6998": {
          "model_module": "@jupyter-widgets/controls",
          "model_name": "HTMLStyleModel",
          "model_module_version": "2.0.0",
          "state": {
            "_model_module": "@jupyter-widgets/controls",
            "_model_module_version": "2.0.0",
            "_model_name": "HTMLStyleModel",
            "_view_count": null,
            "_view_module": "@jupyter-widgets/base",
            "_view_module_version": "2.0.0",
            "_view_name": "StyleView",
            "background": null,
            "description_width": "",
            "font_size": null,
            "text_color": null
          }
        }
      }
    }
  },
  "cells": [
    {
      "cell_type": "markdown",
      "source": [
        "# Transfer Learning for Identification of Rare Bird Species"
      ],
      "metadata": {
        "id": "8-FfmA58Fle7"
      }
    },
    {
      "cell_type": "markdown",
      "source": [
        "### I. Installing and Importing Libraries"
      ],
      "metadata": {
        "id": "9YlvA3jvF0UJ"
      }
    },
    {
      "cell_type": "code",
      "source": [
        "# --- Installing and importing libraries---\n",
        "\n",
        "# Installing libraries\n",
        "#!pip install birdnetlib\n",
        "#!pip install librosa==0.9.2\n",
        "#!pip install opensoundscape\n",
        "#!pip install git+https://github.com/kitzeslab/bioacoustics-model-zoo\n",
        "#!pip install tensorflow tensorflow-hub\n",
        "#!pip install pydub\n",
        "#!pip install joblib\n",
        "\n",
        "\n",
        "# Suppress unnecesary warnings\n",
        "import warnings\n",
        "import logging\n",
        "warnings.filterwarnings(\"ignore\")\n",
        "\n",
        "# Suppress import warnings specifically (ImportWarning)\n",
        "import sys\n",
        "if not sys.warnoptions:\n",
        "    warnings.simplefilter(\"ignore\", category=ImportWarning)\n",
        "\n",
        "# Suppress logging from some noisy packages\n",
        "logging.getLogger('googleapiclient.discovery_cache').setLevel(logging.ERROR)\n",
        "\n",
        "# Import packages\n",
        "import os\n",
        "import pandas as pd\n",
        "import bioacoustics_model_zoo as bmz\n",
        "import joblib\n",
        "\n",
        "from pydub import AudioSegment\n",
        "from pydub.utils import mediainfo\n",
        "from google.colab import drive\n",
        "from bioacoustics_model_zoo import BirdNET\n",
        "from birdnetlib import Recording\n",
        "from birdnetlib.analyzer import Analyzer\n",
        "from datetime import datetime\n",
        "from collections import defaultdict\n",
        "from collections import Counter\n",
        "\n",
        "from google.colab import drive\n",
        "\n",
        "from sklearn.linear_model import LogisticRegression\n",
        "from sklearn.metrics import classification_report, accuracy_score, f1_score\n",
        "from sklearn.model_selection import train_test_split\n",
        "from sklearn.model_selection import StratifiedGroupKFold\n",
        "from sklearn.model_selection import StratifiedKFold\n",
        "from sklearn.neighbors import KNeighborsClassifier\n",
        "from sklearn.neural_network import MLPClassifier\n",
        "from sklearn.preprocessing import StandardScaler\n",
        "from sklearn.metrics.pairwise import cosine_similarity\n"
      ],
      "metadata": {
        "colab": {
          "base_uri": "https://localhost:8080/"
        },
        "id": "0RMy2g5mpbXF",
        "outputId": "6525cfb3-d1c2-452a-a667-e2e1932a7e87"
      },
      "execution_count": 1,
      "outputs": [
        {
          "output_type": "stream",
          "name": "stderr",
          "text": [
            "<frozen importlib._bootstrap>:1047: ImportWarning: _PyDrive2ImportHook.find_spec() not found; falling back to find_module()\n",
            "<frozen importlib._bootstrap>:1047: ImportWarning: _PyDriveImportHook.find_spec() not found; falling back to find_module()\n",
            "<frozen importlib._bootstrap>:1047: ImportWarning: _BokehImportHook.find_spec() not found; falling back to find_module()\n",
            "<frozen importlib._bootstrap>:1047: ImportWarning: _PyDrive2ImportHook.find_spec() not found; falling back to find_module()\n",
            "<frozen importlib._bootstrap>:1047: ImportWarning: _PyDriveImportHook.find_spec() not found; falling back to find_module()\n",
            "<frozen importlib._bootstrap>:1047: ImportWarning: _BokehImportHook.find_spec() not found; falling back to find_module()\n",
            "<frozen importlib._bootstrap>:1047: ImportWarning: _PyDrive2ImportHook.find_spec() not found; falling back to find_module()\n",
            "<frozen importlib._bootstrap>:1047: ImportWarning: _PyDriveImportHook.find_spec() not found; falling back to find_module()\n",
            "<frozen importlib._bootstrap>:1047: ImportWarning: _BokehImportHook.find_spec() not found; falling back to find_module()\n"
          ]
        }
      ]
    },
    {
      "cell_type": "markdown",
      "source": [
        "### II. Pre-Processing Audio Files"
      ],
      "metadata": {
        "id": "d2w-QeWAF9vZ"
      }
    },
    {
      "cell_type": "code",
      "source": [
        "# --- Transform audio to standard WAV and padding to 3 seconds---\n",
        "\n",
        "# Mount Google Drive\n",
        "drive.mount('/content/drive')\n",
        "\n",
        "# Input folders (original audio)\n",
        "input_folders = {\n",
        "    \"NEG\": \"/content/drive/My Drive/AlternativeBirds/\",\n",
        "    \"POS\": \"/content/drive/My Drive/OnlyAudioDoliornis/\",\n",
        "    \"OPOS\": \"/content/drive/My Drive/OnlyAudioHapalopsittaca/\"\n",
        "}\n",
        "\n",
        "# Output folders (converted WAV files)\n",
        "output_folders = {\n",
        "    \"NEG\": \"/content/drive/My Drive/AlternativeBirds_wav/\",\n",
        "    \"POS\": \"/content/drive/My Drive/OnlyAudioDoliornis_wav/\",\n",
        "    \"OPOS\": \"/content/drive/My Drive/OnlyAudioHapalopsittaca_wav/\"\n",
        "}\n",
        "\n",
        "# Function to convert and pad audio\n",
        "def convert_and_pad_to_3s(input_path, output_path):\n",
        "    try:\n",
        "        audio = AudioSegment.from_file(input_path)\n",
        "        duration_ms = 3000  # 3 seconds\n",
        "\n",
        "        if len(audio) < duration_ms:\n",
        "            silence = AudioSegment.silent(duration=duration_ms - len(audio))\n",
        "            audio = audio + silence\n",
        "\n",
        "        # Let pydub handle the writing\n",
        "        audio.export(output_path, format=\"wav\")\n",
        "\n",
        "        print(f\"Processed and saved: {output_path}\")\n",
        "    except Exception as e:\n",
        "        print(f\"Error processing {input_path}: {e}\")\n",
        "\n",
        "# Process each folder\n",
        "for key in input_folders:\n",
        "    input_dir = input_folders[key]\n",
        "    output_dir = output_folders[key]\n",
        "    os.makedirs(output_dir, exist_ok=True)\n",
        "\n",
        "    audio_files = [\n",
        "        os.path.join(input_dir, f)\n",
        "        for f in os.listdir(input_dir)\n",
        "        if f.lower().endswith(('.mp3', '.wav', '.flac', '.ogg'))\n",
        "    ]\n",
        "\n",
        "    for input_path in audio_files:\n",
        "        filename = os.path.splitext(os.path.basename(input_path))[0] + \".wav\"\n",
        "        output_path = os.path.join(output_dir, filename)\n",
        "        convert_and_pad_to_3s(input_path, output_path)\n"
      ],
      "metadata": {
        "colab": {
          "base_uri": "https://localhost:8080/"
        },
        "id": "Pk_R9ZKncGeo",
        "outputId": "d6eaecbf-d066-4303-ddc0-fd18ceaeceb0"
      },
      "execution_count": 2,
      "outputs": [
        {
          "output_type": "stream",
          "name": "stdout",
          "text": [
            "Drive already mounted at /content/drive; to attempt to forcibly remount, call drive.mount(\"/content/drive\", force_remount=True).\n"
          ]
        },
        {
          "output_type": "stream",
          "name": "stderr",
          "text": [
            "<ipython-input-2-3223057341c3>:31: ResourceWarning: unclosed file <_io.BufferedRandom name='/content/drive/My Drive/AlternativeBirds_wav/XC187 - Grey-breasted Mountain Toucan - Andigena hypoglauca.wav'>\n",
            "  audio.export(output_path, format=\"wav\")\n"
          ]
        },
        {
          "output_type": "stream",
          "name": "stdout",
          "text": [
            "Processed and saved: /content/drive/My Drive/AlternativeBirds_wav/XC187 - Grey-breasted Mountain Toucan - Andigena hypoglauca.wav\n"
          ]
        },
        {
          "output_type": "stream",
          "name": "stderr",
          "text": [
            "<ipython-input-2-3223057341c3>:31: ResourceWarning: unclosed file <_io.BufferedRandom name='/content/drive/My Drive/AlternativeBirds_wav/XC2069 - Plum-crowned Parrot - Pionus tumultuosus.wav'>\n",
            "  audio.export(output_path, format=\"wav\")\n"
          ]
        },
        {
          "output_type": "stream",
          "name": "stdout",
          "text": [
            "Processed and saved: /content/drive/My Drive/AlternativeBirds_wav/XC2069 - Plum-crowned Parrot - Pionus tumultuosus.wav\n"
          ]
        },
        {
          "output_type": "stream",
          "name": "stderr",
          "text": [
            "<ipython-input-2-3223057341c3>:31: ResourceWarning: unclosed file <_io.BufferedRandom name='/content/drive/My Drive/AlternativeBirds_wav/XC3470 - Blue-banded Toucanet - Aulacorhynchus coeruleicinctis.wav'>\n",
            "  audio.export(output_path, format=\"wav\")\n"
          ]
        },
        {
          "output_type": "stream",
          "name": "stdout",
          "text": [
            "Processed and saved: /content/drive/My Drive/AlternativeBirds_wav/XC3470 - Blue-banded Toucanet - Aulacorhynchus coeruleicinctis.wav\n"
          ]
        },
        {
          "output_type": "stream",
          "name": "stderr",
          "text": [
            "<ipython-input-2-3223057341c3>:31: ResourceWarning: unclosed file <_io.BufferedRandom name='/content/drive/My Drive/AlternativeBirds_wav/XC2019 - Plum-crowned Parrot - Pionus tumultuosus.wav'>\n",
            "  audio.export(output_path, format=\"wav\")\n"
          ]
        },
        {
          "output_type": "stream",
          "name": "stdout",
          "text": [
            "Processed and saved: /content/drive/My Drive/AlternativeBirds_wav/XC2019 - Plum-crowned Parrot - Pionus tumultuosus.wav\n"
          ]
        },
        {
          "output_type": "stream",
          "name": "stderr",
          "text": [
            "<ipython-input-2-3223057341c3>:31: ResourceWarning: unclosed file <_io.BufferedRandom name='/content/drive/My Drive/AlternativeBirds_wav/XC2012 - Jameson_s Snipe - Gallinago jamesoni.wav'>\n",
            "  audio.export(output_path, format=\"wav\")\n"
          ]
        },
        {
          "output_type": "stream",
          "name": "stdout",
          "text": [
            "Processed and saved: /content/drive/My Drive/AlternativeBirds_wav/XC2012 - Jameson_s Snipe - Gallinago jamesoni.wav\n"
          ]
        },
        {
          "output_type": "stream",
          "name": "stderr",
          "text": [
            "<ipython-input-2-3223057341c3>:31: ResourceWarning: unclosed file <_io.BufferedRandom name='/content/drive/My Drive/AlternativeBirds_wav/XC1598 - Blue-banded Toucanet - Aulacorhynchus coeruleicinctis.wav'>\n",
            "  audio.export(output_path, format=\"wav\")\n"
          ]
        },
        {
          "output_type": "stream",
          "name": "stdout",
          "text": [
            "Processed and saved: /content/drive/My Drive/AlternativeBirds_wav/XC1598 - Blue-banded Toucanet - Aulacorhynchus coeruleicinctis.wav\n"
          ]
        },
        {
          "output_type": "stream",
          "name": "stderr",
          "text": [
            "<ipython-input-2-3223057341c3>:31: ResourceWarning: unclosed file <_io.BufferedRandom name='/content/drive/My Drive/AlternativeBirds_wav/XC20706 - Blue-throated Piping Guan - Pipile cumanensis.wav'>\n",
            "  audio.export(output_path, format=\"wav\")\n"
          ]
        },
        {
          "output_type": "stream",
          "name": "stdout",
          "text": [
            "Processed and saved: /content/drive/My Drive/AlternativeBirds_wav/XC20706 - Blue-throated Piping Guan - Pipile cumanensis.wav\n"
          ]
        },
        {
          "output_type": "stream",
          "name": "stderr",
          "text": [
            "<ipython-input-2-3223057341c3>:31: ResourceWarning: unclosed file <_io.BufferedRandom name='/content/drive/My Drive/AlternativeBirds_wav/XC14584 - Grey-breasted Mountain Toucan - Andigena hypoglauca.wav'>\n",
            "  audio.export(output_path, format=\"wav\")\n"
          ]
        },
        {
          "output_type": "stream",
          "name": "stdout",
          "text": [
            "Processed and saved: /content/drive/My Drive/AlternativeBirds_wav/XC14584 - Grey-breasted Mountain Toucan - Andigena hypoglauca.wav\n"
          ]
        },
        {
          "output_type": "stream",
          "name": "stderr",
          "text": [
            "<ipython-input-2-3223057341c3>:31: ResourceWarning: unclosed file <_io.BufferedRandom name='/content/drive/My Drive/AlternativeBirds_wav/XC62895 - Black Tinamou - Tinamus osgoodi.wav'>\n",
            "  audio.export(output_path, format=\"wav\")\n"
          ]
        },
        {
          "output_type": "stream",
          "name": "stdout",
          "text": [
            "Processed and saved: /content/drive/My Drive/AlternativeBirds_wav/XC62895 - Black Tinamou - Tinamus osgoodi.wav\n"
          ]
        },
        {
          "output_type": "stream",
          "name": "stderr",
          "text": [
            "<ipython-input-2-3223057341c3>:31: ResourceWarning: unclosed file <_io.BufferedRandom name='/content/drive/My Drive/AlternativeBirds_wav/XC178 - Jameson_s Snipe - Gallinago jamesoni.wav'>\n",
            "  audio.export(output_path, format=\"wav\")\n"
          ]
        },
        {
          "output_type": "stream",
          "name": "stdout",
          "text": [
            "Processed and saved: /content/drive/My Drive/AlternativeBirds_wav/XC178 - Jameson_s Snipe - Gallinago jamesoni.wav\n"
          ]
        },
        {
          "output_type": "stream",
          "name": "stderr",
          "text": [
            "<ipython-input-2-3223057341c3>:31: ResourceWarning: unclosed file <_io.BufferedRandom name='/content/drive/My Drive/AlternativeBirds_wav/XC2915 - Andean Cock-of-the-rock - Rupicola peruvianus saturatus.wav'>\n",
            "  audio.export(output_path, format=\"wav\")\n"
          ]
        },
        {
          "output_type": "stream",
          "name": "stdout",
          "text": [
            "Processed and saved: /content/drive/My Drive/AlternativeBirds_wav/XC2915 - Andean Cock-of-the-rock - Rupicola peruvianus saturatus.wav\n"
          ]
        },
        {
          "output_type": "stream",
          "name": "stderr",
          "text": [
            "<ipython-input-2-3223057341c3>:31: ResourceWarning: unclosed file <_io.BufferedRandom name='/content/drive/My Drive/OnlyAudioDoliornis_wav/XC10781 - Bay-vented Cotinga - Doliornis sclateri.wav'>\n",
            "  audio.export(output_path, format=\"wav\")\n"
          ]
        },
        {
          "output_type": "stream",
          "name": "stdout",
          "text": [
            "Processed and saved: /content/drive/My Drive/OnlyAudioDoliornis_wav/XC10781 - Bay-vented Cotinga - Doliornis sclateri.wav\n"
          ]
        },
        {
          "output_type": "stream",
          "name": "stderr",
          "text": [
            "<ipython-input-2-3223057341c3>:31: ResourceWarning: unclosed file <_io.BufferedRandom name='/content/drive/My Drive/OnlyAudioDoliornis_wav/XC20615 - Bay-vented Cotinga - Doliornis sclateri.wav'>\n",
            "  audio.export(output_path, format=\"wav\")\n"
          ]
        },
        {
          "output_type": "stream",
          "name": "stdout",
          "text": [
            "Processed and saved: /content/drive/My Drive/OnlyAudioDoliornis_wav/XC20615 - Bay-vented Cotinga - Doliornis sclateri.wav\n"
          ]
        },
        {
          "output_type": "stream",
          "name": "stderr",
          "text": [
            "<ipython-input-2-3223057341c3>:31: ResourceWarning: unclosed file <_io.BufferedRandom name='/content/drive/My Drive/OnlyAudioDoliornis_wav/XC41676 - Bay-vented Cotinga - Doliornis sclateri.wav'>\n",
            "  audio.export(output_path, format=\"wav\")\n"
          ]
        },
        {
          "output_type": "stream",
          "name": "stdout",
          "text": [
            "Processed and saved: /content/drive/My Drive/OnlyAudioDoliornis_wav/XC41676 - Bay-vented Cotinga - Doliornis sclateri.wav\n"
          ]
        },
        {
          "output_type": "stream",
          "name": "stderr",
          "text": [
            "<ipython-input-2-3223057341c3>:31: ResourceWarning: unclosed file <_io.BufferedRandom name='/content/drive/My Drive/OnlyAudioDoliornis_wav/XC65640 - Bay-vented Cotinga - Doliornis sclateri.wav'>\n",
            "  audio.export(output_path, format=\"wav\")\n"
          ]
        },
        {
          "output_type": "stream",
          "name": "stdout",
          "text": [
            "Processed and saved: /content/drive/My Drive/OnlyAudioDoliornis_wav/XC65640 - Bay-vented Cotinga - Doliornis sclateri.wav\n"
          ]
        },
        {
          "output_type": "stream",
          "name": "stderr",
          "text": [
            "<ipython-input-2-3223057341c3>:31: ResourceWarning: unclosed file <_io.BufferedRandom name='/content/drive/My Drive/OnlyAudioDoliornis_wav/XC142403 - Bay-vented Cotinga - Doliornis sclateri.wav'>\n",
            "  audio.export(output_path, format=\"wav\")\n"
          ]
        },
        {
          "output_type": "stream",
          "name": "stdout",
          "text": [
            "Processed and saved: /content/drive/My Drive/OnlyAudioDoliornis_wav/XC142403 - Bay-vented Cotinga - Doliornis sclateri.wav\n"
          ]
        },
        {
          "output_type": "stream",
          "name": "stderr",
          "text": [
            "<ipython-input-2-3223057341c3>:31: ResourceWarning: unclosed file <_io.BufferedRandom name='/content/drive/My Drive/OnlyAudioDoliornis_wav/XC222460 - Bay-vented Cotinga - Doliornis sclateri.wav'>\n",
            "  audio.export(output_path, format=\"wav\")\n"
          ]
        },
        {
          "output_type": "stream",
          "name": "stdout",
          "text": [
            "Processed and saved: /content/drive/My Drive/OnlyAudioDoliornis_wav/XC222460 - Bay-vented Cotinga - Doliornis sclateri.wav\n"
          ]
        },
        {
          "output_type": "stream",
          "name": "stderr",
          "text": [
            "<ipython-input-2-3223057341c3>:31: ResourceWarning: unclosed file <_io.BufferedRandom name='/content/drive/My Drive/OnlyAudioDoliornis_wav/XC222458 - Bay-vented Cotinga - Doliornis sclateri.wav'>\n",
            "  audio.export(output_path, format=\"wav\")\n"
          ]
        },
        {
          "output_type": "stream",
          "name": "stdout",
          "text": [
            "Processed and saved: /content/drive/My Drive/OnlyAudioDoliornis_wav/XC222458 - Bay-vented Cotinga - Doliornis sclateri.wav\n"
          ]
        },
        {
          "output_type": "stream",
          "name": "stderr",
          "text": [
            "<ipython-input-2-3223057341c3>:31: ResourceWarning: unclosed file <_io.BufferedRandom name='/content/drive/My Drive/OnlyAudioDoliornis_wav/XC222459 - Bay-vented Cotinga - Doliornis sclateri.wav'>\n",
            "  audio.export(output_path, format=\"wav\")\n"
          ]
        },
        {
          "output_type": "stream",
          "name": "stdout",
          "text": [
            "Processed and saved: /content/drive/My Drive/OnlyAudioDoliornis_wav/XC222459 - Bay-vented Cotinga - Doliornis sclateri.wav\n"
          ]
        },
        {
          "output_type": "stream",
          "name": "stderr",
          "text": [
            "<ipython-input-2-3223057341c3>:31: ResourceWarning: unclosed file <_io.BufferedRandom name='/content/drive/My Drive/OnlyAudioDoliornis_wav/XC296819 - Bay-vented Cotinga - Doliornis sclateri.wav'>\n",
            "  audio.export(output_path, format=\"wav\")\n"
          ]
        },
        {
          "output_type": "stream",
          "name": "stdout",
          "text": [
            "Processed and saved: /content/drive/My Drive/OnlyAudioDoliornis_wav/XC296819 - Bay-vented Cotinga - Doliornis sclateri.wav\n"
          ]
        },
        {
          "output_type": "stream",
          "name": "stderr",
          "text": [
            "<ipython-input-2-3223057341c3>:31: ResourceWarning: unclosed file <_io.BufferedRandom name='/content/drive/My Drive/OnlyAudioDoliornis_wav/XC296816 - Bay-vented Cotinga - Doliornis sclateri.wav'>\n",
            "  audio.export(output_path, format=\"wav\")\n"
          ]
        },
        {
          "output_type": "stream",
          "name": "stdout",
          "text": [
            "Processed and saved: /content/drive/My Drive/OnlyAudioDoliornis_wav/XC296816 - Bay-vented Cotinga - Doliornis sclateri.wav\n"
          ]
        },
        {
          "output_type": "stream",
          "name": "stderr",
          "text": [
            "<ipython-input-2-3223057341c3>:31: ResourceWarning: unclosed file <_io.BufferedRandom name='/content/drive/My Drive/OnlyAudioDoliornis_wav/XC296818 - Bay-vented Cotinga - Doliornis sclateri.wav'>\n",
            "  audio.export(output_path, format=\"wav\")\n"
          ]
        },
        {
          "output_type": "stream",
          "name": "stdout",
          "text": [
            "Processed and saved: /content/drive/My Drive/OnlyAudioDoliornis_wav/XC296818 - Bay-vented Cotinga - Doliornis sclateri.wav\n"
          ]
        },
        {
          "output_type": "stream",
          "name": "stderr",
          "text": [
            "<ipython-input-2-3223057341c3>:31: ResourceWarning: unclosed file <_io.BufferedRandom name='/content/drive/My Drive/OnlyAudioHapalopsittaca_wav/XC2005 - Black-winged Parrot - Hapalopsittaca melanotis.wav'>\n",
            "  audio.export(output_path, format=\"wav\")\n"
          ]
        },
        {
          "output_type": "stream",
          "name": "stdout",
          "text": [
            "Processed and saved: /content/drive/My Drive/OnlyAudioHapalopsittaca_wav/XC2005 - Black-winged Parrot - Hapalopsittaca melanotis.wav\n"
          ]
        },
        {
          "output_type": "stream",
          "name": "stderr",
          "text": [
            "<ipython-input-2-3223057341c3>:31: ResourceWarning: unclosed file <_io.BufferedRandom name='/content/drive/My Drive/OnlyAudioHapalopsittaca_wav/XC2004 - Black-winged Parrot - Hapalopsittaca melanotis.wav'>\n",
            "  audio.export(output_path, format=\"wav\")\n"
          ]
        },
        {
          "output_type": "stream",
          "name": "stdout",
          "text": [
            "Processed and saved: /content/drive/My Drive/OnlyAudioHapalopsittaca_wav/XC2004 - Black-winged Parrot - Hapalopsittaca melanotis.wav\n"
          ]
        },
        {
          "output_type": "stream",
          "name": "stderr",
          "text": [
            "<ipython-input-2-3223057341c3>:31: ResourceWarning: unclosed file <_io.BufferedRandom name='/content/drive/My Drive/OnlyAudioHapalopsittaca_wav/XC2070 - Black-winged Parrot - Hapalopsittaca melanotis.wav'>\n",
            "  audio.export(output_path, format=\"wav\")\n"
          ]
        },
        {
          "output_type": "stream",
          "name": "stdout",
          "text": [
            "Processed and saved: /content/drive/My Drive/OnlyAudioHapalopsittaca_wav/XC2070 - Black-winged Parrot - Hapalopsittaca melanotis.wav\n"
          ]
        },
        {
          "output_type": "stream",
          "name": "stderr",
          "text": [
            "<ipython-input-2-3223057341c3>:31: ResourceWarning: unclosed file <_io.BufferedRandom name='/content/drive/My Drive/OnlyAudioHapalopsittaca_wav/XC16129 - Black-winged Parrot - Hapalopsittaca melanotis melanotis.wav'>\n",
            "  audio.export(output_path, format=\"wav\")\n"
          ]
        },
        {
          "output_type": "stream",
          "name": "stdout",
          "text": [
            "Processed and saved: /content/drive/My Drive/OnlyAudioHapalopsittaca_wav/XC16129 - Black-winged Parrot - Hapalopsittaca melanotis melanotis.wav\n"
          ]
        },
        {
          "output_type": "stream",
          "name": "stderr",
          "text": [
            "<ipython-input-2-3223057341c3>:31: ResourceWarning: unclosed file <_io.BufferedRandom name='/content/drive/My Drive/OnlyAudioHapalopsittaca_wav/XC151172 - Black-winged Parrot - Hapalopsittaca melanotis.wav'>\n",
            "  audio.export(output_path, format=\"wav\")\n"
          ]
        },
        {
          "output_type": "stream",
          "name": "stdout",
          "text": [
            "Processed and saved: /content/drive/My Drive/OnlyAudioHapalopsittaca_wav/XC151172 - Black-winged Parrot - Hapalopsittaca melanotis.wav\n"
          ]
        },
        {
          "output_type": "stream",
          "name": "stderr",
          "text": [
            "<ipython-input-2-3223057341c3>:31: ResourceWarning: unclosed file <_io.BufferedRandom name='/content/drive/My Drive/OnlyAudioHapalopsittaca_wav/XC151165 - Black-winged Parrot - Hapalopsittaca melanotis.wav'>\n",
            "  audio.export(output_path, format=\"wav\")\n"
          ]
        },
        {
          "output_type": "stream",
          "name": "stdout",
          "text": [
            "Processed and saved: /content/drive/My Drive/OnlyAudioHapalopsittaca_wav/XC151165 - Black-winged Parrot - Hapalopsittaca melanotis.wav\n"
          ]
        },
        {
          "output_type": "stream",
          "name": "stderr",
          "text": [
            "<ipython-input-2-3223057341c3>:31: ResourceWarning: unclosed file <_io.BufferedRandom name='/content/drive/My Drive/OnlyAudioHapalopsittaca_wav/XC350403 - Black-winged Parrot - Hapalopsittaca melanotis peruviana.wav'>\n",
            "  audio.export(output_path, format=\"wav\")\n"
          ]
        },
        {
          "output_type": "stream",
          "name": "stdout",
          "text": [
            "Processed and saved: /content/drive/My Drive/OnlyAudioHapalopsittaca_wav/XC350403 - Black-winged Parrot - Hapalopsittaca melanotis peruviana.wav\n"
          ]
        },
        {
          "output_type": "stream",
          "name": "stderr",
          "text": [
            "<ipython-input-2-3223057341c3>:31: ResourceWarning: unclosed file <_io.BufferedRandom name='/content/drive/My Drive/OnlyAudioHapalopsittaca_wav/XC349146 - Black-winged Parrot - Hapalopsittaca melanotis.wav'>\n",
            "  audio.export(output_path, format=\"wav\")\n"
          ]
        },
        {
          "output_type": "stream",
          "name": "stdout",
          "text": [
            "Processed and saved: /content/drive/My Drive/OnlyAudioHapalopsittaca_wav/XC349146 - Black-winged Parrot - Hapalopsittaca melanotis.wav\n"
          ]
        },
        {
          "output_type": "stream",
          "name": "stderr",
          "text": [
            "<ipython-input-2-3223057341c3>:31: ResourceWarning: unclosed file <_io.BufferedRandom name='/content/drive/My Drive/OnlyAudioHapalopsittaca_wav/XC354158 - Black-winged Parrot - Hapalopsittaca melanotis melanotis.wav'>\n",
            "  audio.export(output_path, format=\"wav\")\n"
          ]
        },
        {
          "output_type": "stream",
          "name": "stdout",
          "text": [
            "Processed and saved: /content/drive/My Drive/OnlyAudioHapalopsittaca_wav/XC354158 - Black-winged Parrot - Hapalopsittaca melanotis melanotis.wav\n"
          ]
        },
        {
          "output_type": "stream",
          "name": "stderr",
          "text": [
            "<ipython-input-2-3223057341c3>:31: ResourceWarning: unclosed file <_io.BufferedRandom name='/content/drive/My Drive/OnlyAudioHapalopsittaca_wav/XC354160 - Black-winged Parrot - Hapalopsittaca melanotis melanotis.wav'>\n",
            "  audio.export(output_path, format=\"wav\")\n",
            "<ipython-input-2-3223057341c3>:23: ResourceWarning: unclosed file <_io.BufferedReader name='/content/drive/My Drive/OnlyAudioHapalopsittaca/XC821443 - Black-winged Parrot - Hapalopsittaca melanotis.wav'>\n",
            "  audio = AudioSegment.from_file(input_path)\n"
          ]
        },
        {
          "output_type": "stream",
          "name": "stdout",
          "text": [
            "Processed and saved: /content/drive/My Drive/OnlyAudioHapalopsittaca_wav/XC354160 - Black-winged Parrot - Hapalopsittaca melanotis melanotis.wav\n",
            "Processed and saved: /content/drive/My Drive/OnlyAudioHapalopsittaca_wav/XC821443 - Black-winged Parrot - Hapalopsittaca melanotis.wav\n"
          ]
        },
        {
          "output_type": "stream",
          "name": "stderr",
          "text": [
            "<ipython-input-2-3223057341c3>:31: ResourceWarning: unclosed file <_io.BufferedRandom name='/content/drive/My Drive/OnlyAudioHapalopsittaca_wav/XC821443 - Black-winged Parrot - Hapalopsittaca melanotis.wav'>\n",
            "  audio.export(output_path, format=\"wav\")\n"
          ]
        }
      ]
    },
    {
      "cell_type": "markdown",
      "source": [
        "### III. Verifying if BirdNET Identifies our Rare Species"
      ],
      "metadata": {
        "id": "SDRbtvehGIJE"
      }
    },
    {
      "cell_type": "code",
      "source": [
        "# --- Check if BirdNET identifies our rare species---\n",
        "\n",
        "def analyze_audio_folder(folder_path):\n",
        "    analyzer = Analyzer()  # Load BirdNET model\n",
        "\n",
        "    audio_files = [\n",
        "        f for f in os.listdir(folder_path)\n",
        "        if f.lower().endswith((\".mp3\", \".wav\"))\n",
        "    ]\n",
        "\n",
        "    for filename in audio_files:\n",
        "        file_path = os.path.join(folder_path, filename)\n",
        "        print(f\"\\nAnalyzing:\")\n",
        "\n",
        "        try:\n",
        "            recording = Recording(analyzer, file_path)\n",
        "            recording.analyze()\n",
        "\n",
        "            detections = recording.detections\n",
        "\n",
        "            if detections:\n",
        "                print(\"Detections:\")\n",
        "                for d in detections:\n",
        "                    print(f\"  - {d['common_name']} ({d['confidence']:.2f})\")\n",
        "            else:\n",
        "                print(\"No detections found.\")\n",
        "\n",
        "        except Exception as e:\n",
        "            print(f\"Error analyzing {filename}: {e}\")\n",
        "\n",
        "#For Doliornis\n",
        "print(\"Identification results corresponding to Doliornis:\")\n",
        "analyze_audio_folder(input_folders[\"POS\"])\n",
        "\n",
        "#For Hapalopsittaca\n",
        "print(\"\\nIdentification results corresponding to Hapalopsittaca:\")\n",
        "analyze_audio_folder(input_folders[\"OPOS\"])\n"
      ],
      "metadata": {
        "colab": {
          "base_uri": "https://localhost:8080/"
        },
        "id": "DsgTObFitUug",
        "outputId": "68bb48ca-4879-46f0-8932-395277178e0a"
      },
      "execution_count": 3,
      "outputs": [
        {
          "output_type": "stream",
          "name": "stdout",
          "text": [
            "Identification results corresponding to Doliornis:\n",
            "Labels loaded.\n",
            "load model True\n",
            "Model loaded.\n",
            "Labels loaded.\n",
            "load_species_list_model\n",
            "Meta model loaded.\n",
            "\n",
            "Analyzing:\n",
            "read_audio_data\n"
          ]
        },
        {
          "output_type": "stream",
          "name": "stderr",
          "text": [
            "<frozen importlib._bootstrap>:1047: ImportWarning: _PyDrive2ImportHook.find_spec() not found; falling back to find_module()\n",
            "<frozen importlib._bootstrap>:1047: ImportWarning: _PyDriveImportHook.find_spec() not found; falling back to find_module()\n",
            "<frozen importlib._bootstrap>:1047: ImportWarning: _BokehImportHook.find_spec() not found; falling back to find_module()\n",
            "<frozen importlib._bootstrap>:1047: ImportWarning: _PyDrive2ImportHook.find_spec() not found; falling back to find_module()\n",
            "<frozen importlib._bootstrap>:1047: ImportWarning: _PyDriveImportHook.find_spec() not found; falling back to find_module()\n",
            "<frozen importlib._bootstrap>:1047: ImportWarning: _BokehImportHook.find_spec() not found; falling back to find_module()\n"
          ]
        },
        {
          "output_type": "stream",
          "name": "stdout",
          "text": [
            "read_audio_data: complete, read  1 chunks.\n",
            "analyze_recording XC10781 - Bay-vented Cotinga - Doliornis sclateri.mp3\n",
            "No detections found.\n",
            "\n",
            "Analyzing:\n",
            "read_audio_data\n",
            "read_audio_data: complete, read  9 chunks.\n",
            "analyze_recording XC20615 - Bay-vented Cotinga - Doliornis sclateri.mp3\n",
            "Detections:\n",
            "  - Dot-winged Antwren (0.50)\n",
            "  - Bertoni's Antbird (0.19)\n",
            "  - White-bellied Antbird (0.21)\n",
            "  - Human non-vocal (0.34)\n",
            "  - American Bullfrog (0.16)\n",
            "\n",
            "Analyzing:\n",
            "read_audio_data\n",
            "read_audio_data: complete, read  40 chunks.\n",
            "analyze_recording XC41676 - Bay-vented Cotinga - Doliornis sclateri.mp3\n",
            "Detections:\n",
            "  - Western Rock Nuthatch (0.13)\n",
            "  - Gray Flycatcher (0.12)\n",
            "  - Turquoise Jay (0.26)\n",
            "  - White-throated Tyrannulet (0.11)\n",
            "  - Red-necked Phalarope (0.11)\n",
            "  - White-throated Tyrannulet (0.51)\n",
            "  - White-throated Tyrannulet (0.22)\n",
            "  - Barred Fruiteater (0.48)\n",
            "  - Turquoise Jay (0.20)\n",
            "  - Tschudi's Tapaculo (0.46)\n",
            "  - Tschudi's Tapaculo (0.64)\n",
            "  - Unicolored Tapaculo (0.42)\n",
            "  - Citrine Warbler (0.21)\n",
            "  - European Goldfinch (0.18)\n",
            "  - White-throated Tyrannulet (0.49)\n",
            "  - White-throated Tyrannulet (0.86)\n",
            "  - White-throated Tyrannulet (0.12)\n",
            "\n",
            "Analyzing:\n",
            "read_audio_data\n",
            "read_audio_data: complete, read  41 chunks.\n",
            "analyze_recording XC65640 - Bay-vented Cotinga - Doliornis sclateri.mp3\n",
            "Detections:\n",
            "  - European Starling (0.10)\n",
            "  - White-throated Tyrannulet (0.51)\n",
            "  - Tyrian Metaltail (0.96)\n",
            "  - White-throated Tyrannulet (0.26)\n",
            "  - Northern Wheatear (0.17)\n",
            "  - Evening Grosbeak (0.73)\n",
            "  - Common Rosefinch (0.13)\n",
            "  - Scarlet-bellied Mountain Tanager (0.35)\n",
            "  - Common Rosefinch (0.11)\n",
            "  - Pyrrhuloxia (0.10)\n",
            "  - Bolivian Blackbird (0.17)\n",
            "  - Common Rosefinch (0.36)\n",
            "  - Brambling (0.12)\n",
            "  - Common Rosefinch (0.20)\n",
            "  - Slaty Brushfinch (0.15)\n",
            "  - White-collared Jay (0.21)\n",
            "  - Slaty Brushfinch (0.12)\n",
            "  - Island Canary (0.18)\n",
            "  - Cape Bunting (0.13)\n",
            "  - Eurasian Marsh-Harrier (0.18)\n",
            "  - Eurasian Marsh-Harrier (0.16)\n",
            "  - Pyrrhuloxia (0.36)\n",
            "  - Eastern Marsh-Harrier (0.21)\n",
            "  - Caspian Tern (0.18)\n",
            "  - Eurasian Marsh-Harrier (0.14)\n",
            "\n",
            "Analyzing:\n",
            "read_audio_data\n",
            "read_audio_data: complete, read  2 chunks.\n",
            "analyze_recording XC142403 - Bay-vented Cotinga - Doliornis sclateri.mp3\n",
            "No detections found.\n",
            "\n",
            "Analyzing:\n",
            "read_audio_data\n",
            "read_audio_data: complete, read  12 chunks.\n",
            "analyze_recording XC222460 - Bay-vented Cotinga - Doliornis sclateri.mp3\n",
            "Detections:\n",
            "  - Variable Oriole (0.31)\n",
            "  - Rufous-chested Dotterel (0.14)\n",
            "  - Variable Oriole (0.16)\n",
            "  - Oriental Honey-buzzard (0.27)\n",
            "  - Southern Chorus Frog (0.11)\n",
            "  - Oriental Honey-buzzard (0.12)\n",
            "  - Olive-crowned Crescentchest (0.12)\n",
            "  - Variable Oriole (0.17)\n",
            "\n",
            "Analyzing:\n",
            "read_audio_data\n",
            "read_audio_data: complete, read  25 chunks.\n",
            "analyze_recording XC222458 - Bay-vented Cotinga - Doliornis sclateri.mp3\n",
            "Detections:\n",
            "  - Mountain Cacique (0.24)\n",
            "  - Roadside Hawk (0.11)\n",
            "  - Turquoise Jay (0.11)\n",
            "  - Variable Oriole (0.39)\n",
            "  - Mauritius White-eye (0.13)\n",
            "  - White-throated Tyrannulet (0.56)\n",
            "  - White-throated Tyrannulet (0.65)\n",
            "  - Andean Pygmy-Owl (0.11)\n",
            "  - Variable Oriole (0.81)\n",
            "  - Ocellated Tapaculo (0.17)\n",
            "  - Blackish Tapaculo (0.22)\n",
            "  - Great Thrush (0.19)\n",
            "  - Roadside Hawk (0.17)\n",
            "  - Variable Oriole (0.11)\n",
            "  - Variable Oriole (0.12)\n",
            "  - Cassin's Kingbird (0.11)\n",
            "\n",
            "Analyzing:\n",
            "read_audio_data\n",
            "read_audio_data: complete, read  6 chunks.\n",
            "analyze_recording XC222459 - Bay-vented Cotinga - Doliornis sclateri.mp3\n",
            "Detections:\n",
            "  - Andean Teal (0.50)\n",
            "  - Jocotoco Antpitta (0.16)\n",
            "\n",
            "Analyzing:\n",
            "read_audio_data\n",
            "read_audio_data: complete, read  2 chunks.\n",
            "analyze_recording XC296819 - Bay-vented Cotinga - Doliornis sclateri.mp3\n",
            "Detections:\n",
            "  - Turquoise Jay (0.74)\n",
            "\n",
            "Analyzing:\n",
            "read_audio_data\n",
            "read_audio_data: complete, read  17 chunks.\n",
            "analyze_recording XC296816 - Bay-vented Cotinga - Doliornis sclateri.mp3\n",
            "Detections:\n",
            "  - Spanish Eagle (0.16)\n",
            "  - Turquoise Jay (0.74)\n",
            "\n",
            "Analyzing:\n",
            "read_audio_data\n",
            "read_audio_data: complete, read  7 chunks.\n",
            "analyze_recording XC296818 - Bay-vented Cotinga - Doliornis sclateri.mp3\n",
            "Detections:\n",
            "  - Buff-necked Ibis (0.23)\n",
            "  - White-throated Jay (0.35)\n",
            "\n",
            "Identification results corresponding to Hapalopsittaca:\n",
            "Labels loaded.\n",
            "load model True\n",
            "Model loaded.\n",
            "Labels loaded.\n",
            "load_species_list_model\n",
            "Meta model loaded.\n",
            "\n",
            "Analyzing:\n",
            "read_audio_data\n",
            "read_audio_data: complete, read  4 chunks.\n",
            "analyze_recording XC2005 - Black-winged Parrot - Hapalopsittaca melanotis.mp3\n",
            "Detections:\n",
            "  - Maroon-bellied Parakeet (0.33)\n",
            "  - Pileated Parrot (0.11)\n",
            "\n",
            "Analyzing:\n",
            "read_audio_data\n",
            "read_audio_data: complete, read  13 chunks.\n",
            "analyze_recording XC2004 - Black-winged Parrot - Hapalopsittaca melanotis.mp3\n",
            "Detections:\n",
            "  - Green-cheeked Parakeet (0.35)\n",
            "  - Orange-banded Flycatcher (0.92)\n",
            "  - Green-cheeked Parakeet (0.25)\n",
            "  - Hooded Mountain Tanager (0.17)\n",
            "  - Orange-banded Flycatcher (0.31)\n",
            "\n",
            "Analyzing:\n",
            "read_audio_data\n",
            "read_audio_data: complete, read  8 chunks.\n",
            "analyze_recording XC2070 - Black-winged Parrot - Hapalopsittaca melanotis.mp3\n",
            "Detections:\n",
            "  - Common House-Martin (0.24)\n",
            "\n",
            "Analyzing:\n",
            "read_audio_data\n",
            "read_audio_data: complete, read  2 chunks.\n",
            "analyze_recording XC16129 - Black-winged Parrot - Hapalopsittaca melanotis melanotis.mp3\n",
            "Detections:\n",
            "  - Tufted Tit-Tyrant (0.14)\n",
            "  - Undulated Antpitta (0.16)\n",
            "\n",
            "Analyzing:\n",
            "read_audio_data\n",
            "read_audio_data: complete, read  11 chunks.\n",
            "analyze_recording XC151172 - Black-winged Parrot - Hapalopsittaca melanotis.mp3\n",
            "Detections:\n",
            "  - White-throated Swift (0.26)\n",
            "  - Rufous-fronted Thornbird (0.12)\n",
            "  - White-throated Swift (0.41)\n",
            "  - Yellow-bellied Siskin (0.11)\n",
            "  - Itatiaia Spinetail (0.16)\n",
            "  - White-throated Swift (0.11)\n",
            "\n",
            "Analyzing:\n",
            "read_audio_data\n",
            "read_audio_data: complete, read  2 chunks.\n",
            "analyze_recording XC151165 - Black-winged Parrot - Hapalopsittaca melanotis.mp3\n",
            "Detections:\n",
            "  - Monk Parakeet (0.13)\n",
            "  - Cliff Swallow (0.11)\n",
            "  - Orange-breasted Fruiteater (0.11)\n",
            "\n",
            "Analyzing:\n",
            "read_audio_data\n",
            "read_audio_data: complete, read  6 chunks.\n",
            "analyze_recording XC350403 - Black-winged Parrot - Hapalopsittaca melanotis peruviana.mp3\n",
            "Detections:\n",
            "  - Barred Parakeet (0.59)\n",
            "  - Barred Parakeet (0.40)\n",
            "  - Barred Parakeet (0.97)\n",
            "  - Barred Parakeet (0.91)\n",
            "\n",
            "Analyzing:\n",
            "read_audio_data\n",
            "read_audio_data: complete, read  7 chunks.\n",
            "analyze_recording XC349146 - Black-winged Parrot - Hapalopsittaca melanotis.mp3\n",
            "Detections:\n",
            "  - Green-cheeked Parakeet (0.34)\n",
            "  - Maroon-tailed Parakeet (0.20)\n",
            "  - Green Shrike-Babbler (0.10)\n",
            "\n",
            "Analyzing:\n",
            "read_audio_data\n",
            "read_audio_data: complete, read  6 chunks.\n",
            "analyze_recording XC354158 - Black-winged Parrot - Hapalopsittaca melanotis melanotis.mp3\n",
            "Detections:\n",
            "  - Black-headed Saltator (0.54)\n",
            "  - Green-cheeked Parakeet (0.61)\n",
            "  - Maroon-bellied Parakeet (0.53)\n",
            "  - Maroon-bellied Parakeet (0.75)\n",
            "  - Red-winged Parrot (0.25)\n",
            "  - Green-cheeked Parakeet (0.14)\n",
            "\n",
            "Analyzing:\n",
            "read_audio_data\n",
            "read_audio_data: complete, read  3 chunks.\n",
            "analyze_recording XC354160 - Black-winged Parrot - Hapalopsittaca melanotis melanotis.mp3\n",
            "Detections:\n",
            "  - Maroon-bellied Parakeet (0.24)\n",
            "  - Maroon-bellied Parakeet (0.76)\n",
            "  - Maroon-bellied Parakeet (0.75)\n",
            "\n",
            "Analyzing:\n",
            "read_audio_data\n",
            "read_audio_data: complete, read  19 chunks.\n",
            "analyze_recording XC821443 - Black-winged Parrot - Hapalopsittaca melanotis.wav\n",
            "Detections:\n",
            "  - Unicolored Jay (0.36)\n",
            "  - Mountain Wren (0.15)\n",
            "  - Chestnut-capped Brushfinch (0.21)\n",
            "  - Gray-browed Brushfinch (0.12)\n",
            "  - Mountain Wren (0.77)\n",
            "  - Ochraceous Wren (0.43)\n",
            "  - Andean Slaty Thrush (0.13)\n",
            "  - Gray-browed Brushfinch (0.38)\n",
            "  - Andean Slaty Thrush (0.12)\n",
            "  - Chestnut-capped Brushfinch (0.51)\n",
            "  - Chestnut-eared Aracari (0.27)\n",
            "  - Andean Slaty Thrush (0.10)\n",
            "  - Chestnut-eared Aracari (0.51)\n",
            "  - Mountain Wren (0.23)\n",
            "  - Andean Slaty Thrush (0.54)\n",
            "  - Orange-bellied Euphonia (0.27)\n",
            "  - Mountain Wren (0.15)\n",
            "  - Yellow-legged Thrush (0.14)\n",
            "  - Andean Slaty Thrush (0.66)\n",
            "  - Mountain Wren (0.67)\n",
            "  - Ochraceous Wren (0.30)\n",
            "  - Orange-bellied Euphonia (0.50)\n",
            "  - Gray-browed Brushfinch (0.22)\n",
            "  - Mountain Wren (0.39)\n",
            "  - Andean Slaty Thrush (0.41)\n",
            "  - Mountain Wren (0.30)\n",
            "  - Andean Slaty Thrush (0.17)\n",
            "  - Brown-backed Solitaire (0.12)\n",
            "  - Andean Slaty Thrush (0.57)\n",
            "  - Brown-backed Solitaire (0.20)\n"
          ]
        }
      ]
    },
    {
      "cell_type": "markdown",
      "source": [
        "RESULT: BirdNET does not identify our rare species (Doliornis sclateri or Hapalopsittaca melanotis)"
      ],
      "metadata": {
        "id": "9s1IwcvEwMyw"
      }
    },
    {
      "cell_type": "markdown",
      "source": [
        "### IV. Obtaining Embeddings from BirdNET for Transfer Learning"
      ],
      "metadata": {
        "id": "-DNde_GhGU1r"
      }
    },
    {
      "cell_type": "code",
      "source": [
        "# --- Get the embeddings of our rare species from BirdNET for transfer learning ---\n",
        "\n",
        "# Initialize BirdNET model\n",
        "model = bmz.BirdNET()\n",
        "\n",
        "# Create function for extracting embeddings\n",
        "import numpy as np\n",
        "def extract_embeddings(audio_folder, output_folder):\n",
        "    os.makedirs(output_folder, exist_ok=True)\n",
        "\n",
        "    audio_files = [\n",
        "        os.path.join(audio_folder, f)\n",
        "        for f in os.listdir(audio_folder)\n",
        "        if f.lower().endswith(('.mp3', '.wav'))\n",
        "    ]\n",
        "\n",
        "    if not audio_files:\n",
        "        print(f\"No audio files found in {audio_folder}\")\n",
        "        return\n",
        "\n",
        "    print(f\"Embedding {len(audio_files)} files from: {audio_folder}\")\n",
        "\n",
        "    # Run embedding\n",
        "    embeddings_df = model.embed(audio_files)\n",
        "\n",
        "    # Group by filename (from MultiIndex)\n",
        "    grouped = embeddings_df.groupby(level=0)\n",
        "\n",
        "    for file_name, group in grouped:\n",
        "        emb_array = group.to_numpy()  # shape: (n_chunks, 1024)\n",
        "        base_name = os.path.splitext(os.path.basename(file_name))[0]\n",
        "        save_path = os.path.join(output_folder, base_name + \".npy\")\n",
        "        np.save(save_path, emb_array)\n",
        "        print(f\"Saved: {save_path} with shape {emb_array.shape}\")\n",
        "\n",
        "# Run the function\n",
        "audio_to_embedding_folders = {\n",
        "    \"/content/drive/My Drive/AlternativeBirds_wav/\": \"/content/drive/My Drive/AlternativeBirds_Emb/\",\n",
        "    \"/content/drive/My Drive/OnlyAudioDoliornis_wav/\": \"/content/drive/My Drive/OnlyAudioDoliornis_Emb/\",\n",
        "    \"/content/drive/My Drive/OnlyAudioHapalopsittaca_wav/\": \"/content/drive/My Drive/OnlyAudioHapalopsittaca_Emb/\",\n",
        "}\n",
        "\n",
        "for audio_folder, embedding_folder in audio_to_embedding_folders.items():\n",
        "    extract_embeddings(audio_folder, embedding_folder)\n"
      ],
      "metadata": {
        "colab": {
          "base_uri": "https://localhost:8080/",
          "height": 955,
          "referenced_widgets": [
            "18a83df33c3e481e936b8fb9445e8a69",
            "abccbe60a17947a4a73501172d33ad01",
            "a7f5b192298a40d19acaab3ead52dae9",
            "4514a167080a4c3daeb78cf8d646a3d9",
            "783787b7923c4d998359829861dc07e6",
            "8ab3259273924c97a609bfcf35b461a6",
            "0dde7b6ba1524ed0a19c2ff50d5da4b1",
            "3c43233fece047908f426b2fd97ebf49",
            "de8ec1654d7d411c9f4cb0debe2e8137",
            "b50122da3cf442c6943975c7aaf1f2d7",
            "d2cd795c48534955bdb66f3cbc664d3e",
            "9c12af3947664201b5308949b866ad92",
            "a05da77ebd094b3e93e34731e25e4df8",
            "15a75cebd7a84315b2fb21fafc03dea4",
            "476cd4e9cac34640a173562050ce9751",
            "0243c99bd4e04eedb8b5d3fa68d6ab7e",
            "ae1c6c8121724a9ea7196f7125e7c9bf",
            "9fdf0a93bba14988a64e78d18a08e821",
            "221cb3eacbff406096054e4692164ebf",
            "1d84a1918e3b47429553c5c515f3188b",
            "9f73d522c8624db8bd4a577f848473c1",
            "c5819c0d146047ed840eaa5699511d5b",
            "42bde6663d69495f9ed7929cf1fe55b8",
            "1b68eb5422bb48d7b02c22b75ed24e53",
            "f629319241cf4d02bcd5d6331baf7dca",
            "266ea64a648a43cabc1e4bc8b36cfbf5",
            "fca8e93538ff4547a08a3123b92d9b3d",
            "b6a4ee223a4d4dc981bafa02307e64db",
            "a39624e569b54bd98497acd062537ae9",
            "39a21cf4924d44a79e8aa43fb19209f5",
            "d1eee4cb89d2417299c0b78c0560df87",
            "5527c278199d43d3a8c3a93af6bbb662",
            "0b78d365136844a7baf0cb96301c6998"
          ]
        },
        "id": "eJ_PGslCfvxN",
        "outputId": "0700ade2-648a-43b8-d7f9-ce4359b8127f"
      },
      "execution_count": 4,
      "outputs": [
        {
          "output_type": "stream",
          "name": "stdout",
          "text": [
            "File BirdNET_GLOBAL_6K_V2.4_Labels_af.txt already exists; skipping download.\n",
            "downloading model from URL...\n",
            "File BirdNET_GLOBAL_6K_V2.4_Model_FP16.tflite already exists; skipping download.\n",
            "Embedding 11 files from: /content/drive/My Drive/AlternativeBirds_wav/\n"
          ]
        },
        {
          "output_type": "stream",
          "name": "stderr",
          "text": [
            "/usr/local/lib/python3.11/dist-packages/opensoundscape/ml/cnn.py:599: UserWarning: \n",
            "                    This architecture is not listed in opensoundscape.ml.cnn_architectures.ARCH_DICT.\n",
            "                    It will not be available for loading after saving the model with .save() (unless using pickle=True). \n",
            "                    To make it re-loadable, define a function that generates the architecture from arguments: (n_classes, n_channels) \n",
            "                    then use opensoundscape.ml.cnn_architectures.register_architecture() to register the generating function.\n",
            "\n",
            "                    The function can also set the returned object's .constructor_name to the registered string key in ARCH_DICT\n",
            "                    to avoid this warning and ensure it is reloaded correctly by opensoundscape.ml.load_model().\n",
            "\n",
            "                    See opensoundscape.ml.cnn_architectures module for examples of constructor functions\n",
            "                    \n",
            "  warnings.warn(\n",
            "/usr/local/lib/python3.11/dist-packages/opensoundscape/ml/cnn.py:623: UserWarning: Failed to detect expected # input channels of this architecture.Make sure your architecture expects the number of channels equal to `channels` argument 1). Pytorch architectures generally expect 3 channels by default.\n",
            "  warnings.warn(\n"
          ]
        },
        {
          "output_type": "display_data",
          "data": {
            "text/plain": [
              "  0%|          | 0/102 [00:00<?, ?it/s]"
            ],
            "application/vnd.jupyter.widget-view+json": {
              "version_major": 2,
              "version_minor": 0,
              "model_id": "18a83df33c3e481e936b8fb9445e8a69"
            }
          },
          "metadata": {}
        },
        {
          "output_type": "stream",
          "name": "stdout",
          "text": [
            "Saved: /content/drive/My Drive/AlternativeBirds_Emb/XC14584 - Grey-breasted Mountain Toucan - Andigena hypoglauca.npy with shape (4, 1024)\n",
            "Saved: /content/drive/My Drive/AlternativeBirds_Emb/XC1598 - Blue-banded Toucanet - Aulacorhynchus coeruleicinctis.npy with shape (29, 1024)\n",
            "Saved: /content/drive/My Drive/AlternativeBirds_Emb/XC178 - Jameson_s Snipe - Gallinago jamesoni.npy with shape (3, 1024)\n",
            "Saved: /content/drive/My Drive/AlternativeBirds_Emb/XC187 - Grey-breasted Mountain Toucan - Andigena hypoglauca.npy with shape (10, 1024)\n",
            "Saved: /content/drive/My Drive/AlternativeBirds_Emb/XC2012 - Jameson_s Snipe - Gallinago jamesoni.npy with shape (11, 1024)\n",
            "Saved: /content/drive/My Drive/AlternativeBirds_Emb/XC2019 - Plum-crowned Parrot - Pionus tumultuosus.npy with shape (7, 1024)\n",
            "Saved: /content/drive/My Drive/AlternativeBirds_Emb/XC2069 - Plum-crowned Parrot - Pionus tumultuosus.npy with shape (13, 1024)\n",
            "Saved: /content/drive/My Drive/AlternativeBirds_Emb/XC20706 - Blue-throated Piping Guan - Pipile cumanensis.npy with shape (4, 1024)\n",
            "Saved: /content/drive/My Drive/AlternativeBirds_Emb/XC2915 - Andean Cock-of-the-rock - Rupicola peruvianus saturatus.npy with shape (3, 1024)\n",
            "Saved: /content/drive/My Drive/AlternativeBirds_Emb/XC3470 - Blue-banded Toucanet - Aulacorhynchus coeruleicinctis.npy with shape (13, 1024)\n",
            "Saved: /content/drive/My Drive/AlternativeBirds_Emb/XC62895 - Black Tinamou - Tinamus osgoodi.npy with shape (5, 1024)\n",
            "Embedding 12 files from: /content/drive/My Drive/OnlyAudioDoliornis_wav/\n"
          ]
        },
        {
          "output_type": "display_data",
          "data": {
            "text/plain": [
              "  0%|          | 0/154 [00:00<?, ?it/s]"
            ],
            "application/vnd.jupyter.widget-view+json": {
              "version_major": 2,
              "version_minor": 0,
              "model_id": "9c12af3947664201b5308949b866ad92"
            }
          },
          "metadata": {}
        },
        {
          "output_type": "stream",
          "name": "stdout",
          "text": [
            "Saved: /content/drive/My Drive/OnlyAudioDoliornis_Emb/XC142403 - Bay-vented Cotinga - Doliornis sclateri.npy with shape (1, 1024)\n",
            "Saved: /content/drive/My Drive/OnlyAudioDoliornis_Emb/XC20615 - Bay-vented Cotinga - Doliornis sclateri.npy with shape (8, 1024)\n",
            "Saved: /content/drive/My Drive/OnlyAudioDoliornis_Emb/XC222458 - Bay-vented Cotinga - Doliornis sclateri.npy with shape (24, 1024)\n",
            "Saved: /content/drive/My Drive/OnlyAudioDoliornis_Emb/XC222459 - Bay-vented Cotinga - Doliornis sclateri.npy with shape (5, 1024)\n",
            "Saved: /content/drive/My Drive/OnlyAudioDoliornis_Emb/XC222460 - Bay-vented Cotinga - Doliornis sclateri.npy with shape (11, 1024)\n",
            "Saved: /content/drive/My Drive/OnlyAudioDoliornis_Emb/XC296816 - Bay-vented Cotinga - Doliornis sclateri.npy with shape (17, 1024)\n",
            "Saved: /content/drive/My Drive/OnlyAudioDoliornis_Emb/XC296818 - Bay-vented Cotinga - Doliornis sclateri.npy with shape (6, 1024)\n",
            "Saved: /content/drive/My Drive/OnlyAudioDoliornis_Emb/XC296819 - Bay-vented Cotinga - Doliornis sclateri.npy with shape (2, 1024)\n",
            "Saved: /content/drive/My Drive/OnlyAudioDoliornis_Emb/XC41676 - Bay-vented Cotinga - Doliornis sclateri.npy with shape (40, 1024)\n",
            "Saved: /content/drive/My Drive/OnlyAudioDoliornis_Emb/XC65640 - Bay-vented Cotinga - Doliornis sclateri.npy with shape (40, 1024)\n",
            "Embedding 11 files from: /content/drive/My Drive/OnlyAudioHapalopsittaca_wav/\n"
          ]
        },
        {
          "output_type": "display_data",
          "data": {
            "text/plain": [
              "  0%|          | 0/74 [00:00<?, ?it/s]"
            ],
            "application/vnd.jupyter.widget-view+json": {
              "version_major": 2,
              "version_minor": 0,
              "model_id": "42bde6663d69495f9ed7929cf1fe55b8"
            }
          },
          "metadata": {}
        },
        {
          "output_type": "stream",
          "name": "stdout",
          "text": [
            "Saved: /content/drive/My Drive/OnlyAudioHapalopsittaca_Emb/XC151165 - Black-winged Parrot - Hapalopsittaca melanotis.npy with shape (1, 1024)\n",
            "Saved: /content/drive/My Drive/OnlyAudioHapalopsittaca_Emb/XC151172 - Black-winged Parrot - Hapalopsittaca melanotis.npy with shape (10, 1024)\n",
            "Saved: /content/drive/My Drive/OnlyAudioHapalopsittaca_Emb/XC16129 - Black-winged Parrot - Hapalopsittaca melanotis melanotis.npy with shape (2, 1024)\n",
            "Saved: /content/drive/My Drive/OnlyAudioHapalopsittaca_Emb/XC2004 - Black-winged Parrot - Hapalopsittaca melanotis.npy with shape (12, 1024)\n",
            "Saved: /content/drive/My Drive/OnlyAudioHapalopsittaca_Emb/XC2005 - Black-winged Parrot - Hapalopsittaca melanotis.npy with shape (4, 1024)\n",
            "Saved: /content/drive/My Drive/OnlyAudioHapalopsittaca_Emb/XC2070 - Black-winged Parrot - Hapalopsittaca melanotis.npy with shape (8, 1024)\n",
            "Saved: /content/drive/My Drive/OnlyAudioHapalopsittaca_Emb/XC349146 - Black-winged Parrot - Hapalopsittaca melanotis.npy with shape (6, 1024)\n",
            "Saved: /content/drive/My Drive/OnlyAudioHapalopsittaca_Emb/XC350403 - Black-winged Parrot - Hapalopsittaca melanotis peruviana.npy with shape (5, 1024)\n",
            "Saved: /content/drive/My Drive/OnlyAudioHapalopsittaca_Emb/XC354158 - Black-winged Parrot - Hapalopsittaca melanotis melanotis.npy with shape (5, 1024)\n",
            "Saved: /content/drive/My Drive/OnlyAudioHapalopsittaca_Emb/XC354160 - Black-winged Parrot - Hapalopsittaca melanotis melanotis.npy with shape (3, 1024)\n",
            "Saved: /content/drive/My Drive/OnlyAudioHapalopsittaca_Emb/XC821443 - Black-winged Parrot - Hapalopsittaca melanotis.npy with shape (18, 1024)\n"
          ]
        }
      ]
    },
    {
      "cell_type": "code",
      "source": [
        "# --- Check number of embbedings per folder---\n",
        "\n",
        "# Folder dictionary\n",
        "folders = {\n",
        "    0: \"/content/drive/My Drive/AlternativeBirds_Emb/\",\n",
        "    1: \"/content/drive/My Drive/OnlyAudioDoliornis_Emb/\",\n",
        "    2: \"/content/drive/My Drive/OnlyAudioHapalopsittaca_Emb/\"\n",
        "}\n",
        "\n",
        "# Count embeddings\n",
        "embedding_counts = {}\n",
        "\n",
        "for label, folder_path in folders.items():\n",
        "    total_embeddings = 0\n",
        "    for file in os.listdir(folder_path):\n",
        "        if file.endswith('.npy'):\n",
        "            filepath = os.path.join(folder_path, file)\n",
        "            data = np.load(filepath)\n",
        "\n",
        "            # If 1D, count as 1 embedding; otherwise, use number of rows\n",
        "            if data.ndim == 1:\n",
        "                total_embeddings += 1\n",
        "            else:\n",
        "                total_embeddings += data.shape[0]\n",
        "\n",
        "    embedding_counts[label] = total_embeddings\n",
        "\n",
        "# Print results\n",
        "for label, count in embedding_counts.items():\n",
        "    print(f\"Class {label}: {count} embeddings\")\n"
      ],
      "metadata": {
        "colab": {
          "base_uri": "https://localhost:8080/"
        },
        "id": "YX-cGIZwEsYN",
        "outputId": "4bd759e7-3c88-4594-d039-9fc1ec351eb9"
      },
      "execution_count": 5,
      "outputs": [
        {
          "output_type": "stream",
          "name": "stdout",
          "text": [
            "Class 0: 102 embeddings\n",
            "Class 1: 154 embeddings\n",
            "Class 2: 74 embeddings\n"
          ]
        }
      ]
    },
    {
      "cell_type": "code",
      "source": [
        "# --- Check the number of embeddings in one recording ---\n",
        "# Embeddings are of 3 seconds, therefore, some recordings may have more than one embedding\n",
        "\n",
        "# Choose a folder and file\n",
        "folder = \"/content/drive/My Drive/AlternativeBirds_Emb/\"\n",
        "files = [f for f in os.listdir(folder) if f.endswith('.npy')]\n",
        "\n",
        "# Load one file (e.g., the first one)\n",
        "file_path = os.path.join(folder, files[0])\n",
        "data = np.load(file_path)\n",
        "\n",
        "# Show info\n",
        "print(f\"File: {files[0]}\")\n",
        "print(\"Shape:\", data.shape)\n",
        "print(\"Rows:\\n\", data)\n"
      ],
      "metadata": {
        "colab": {
          "base_uri": "https://localhost:8080/"
        },
        "id": "hS7durDDTuoX",
        "outputId": "29227993-9d93-48f2-8c55-46864b1518ca"
      },
      "execution_count": 6,
      "outputs": [
        {
          "output_type": "stream",
          "name": "stdout",
          "text": [
            "File: XC14584 - Grey-breasted Mountain Toucan - Andigena hypoglauca.npy\n",
            "Shape: (4, 1024)\n",
            "Rows:\n",
            " [[1.00081    0.05319615 0.35048535 ... 0.82700044 0.6854153  0.01185115]\n",
            " [0.85154    0.08075234 0.6724665  ... 1.2943727  1.0188434  0.04159411]\n",
            " [0.14932956 0.05190347 0.4674158  ... 0.9484196  1.5497198  0.0411665 ]\n",
            " [0.5318307  0.         0.5636771  ... 1.0350096  1.2452976  0.00568366]]\n"
          ]
        }
      ]
    },
    {
      "cell_type": "markdown",
      "source": [
        "### V. Evaluation of Models for Transfer Learning"
      ],
      "metadata": {
        "id": "EOCXrd0uGlTk"
      }
    },
    {
      "cell_type": "markdown",
      "source": [
        "#### 5.1 Data Pre-Processing for Model Evaluation"
      ],
      "metadata": {
        "id": "8q_1hAYOGxZ_"
      }
    },
    {
      "cell_type": "code",
      "source": [
        "# --- Data preprocessing for model evaluation ---\n",
        "\n",
        "# Load embeddings and labels\n",
        "X = []\n",
        "y = []\n",
        "file_ids = []\n",
        "\n",
        "folders = {\n",
        "    0: \"/content/drive/My Drive/AlternativeBirds_Emb/\",\n",
        "    1: \"/content/drive/My Drive/OnlyAudioDoliornis_Emb/\",\n",
        "    2: \"/content/drive/My Drive/OnlyAudioHapalopsittaca_Emb/\"\n",
        "}\n",
        "\n",
        "for label, folder_path in folders.items():\n",
        "    for file in os.listdir(folder_path):\n",
        "        if file.endswith('.npy'):\n",
        "            filepath = os.path.join(folder_path, file)\n",
        "            data = np.load(filepath)\n",
        "            for row in data:\n",
        "                X.append(row)\n",
        "                y.append(label)\n",
        "                file_ids.append(file)  # Track filename\n",
        "\n",
        "X = np.array(X)\n",
        "y = np.array(y)\n",
        "file_ids = np.array(file_ids)\n",
        "\n",
        "X_all_data = X.copy()\n",
        "y_all_data = y.copy()\n",
        "\n",
        "# Split based on unique files to avoid data leakage.\n",
        "# Reason: Embeddings from the same audio file are correlated.\n",
        "# Including some for training and others for testing can inflate performance.\n",
        "\n",
        "unique_files = np.unique(file_ids)\n",
        "file_labels = [y[file_ids == f][0] for f in unique_files]\n",
        "\n",
        "# Train and test split\n",
        "train_files, test_files = train_test_split(\n",
        "    unique_files, test_size=0.2, stratify=file_labels, random_state=42\n",
        ")\n",
        "\n",
        "train_mask = np.isin(file_ids, train_files)\n",
        "test_mask = np.isin(file_ids, test_files)\n",
        "\n",
        "X_train = X[train_mask]\n",
        "y_train = y[train_mask]\n",
        "X_test = X[test_mask]\n",
        "y_test = y[test_mask]\n",
        "\n",
        "# Normalize embeddings using StandardScaler\n",
        "scaler = StandardScaler()\n",
        "X_train = scaler.fit_transform(X_train)\n",
        "X_test = scaler.transform(X_test)\n",
        "\n",
        "# Check results\n",
        "print(\"X_train shape:\", X_train.shape)\n",
        "print(\"y_train shape:\", y_train.shape)\n",
        "print(\"X_test shape:\", X_test.shape)\n",
        "print(\"y_test shape:\", y_test.shape)\n"
      ],
      "metadata": {
        "colab": {
          "base_uri": "https://localhost:8080/"
        },
        "id": "zFhDjxTpzOs1",
        "outputId": "30e4e0a9-1b37-47a3-8ff3-8ea37ea56f26"
      },
      "execution_count": 7,
      "outputs": [
        {
          "output_type": "stream",
          "name": "stdout",
          "text": [
            "X_train shape: (249, 1024)\n",
            "y_train shape: (249,)\n",
            "X_test shape: (81, 1024)\n",
            "y_test shape: (81,)\n"
          ]
        }
      ]
    },
    {
      "cell_type": "markdown",
      "source": [
        "#### 5.2 Evaluation of Multinomial Logistic Regression (Standard)"
      ],
      "metadata": {
        "id": "gW8tkVtxG7v7"
      }
    },
    {
      "cell_type": "code",
      "source": [
        "# --- Evaluation of multinomial logistic regression for prediction of rare species---\n",
        "\n",
        "# Train the model\n",
        "clf = LogisticRegression(solver='lbfgs', max_iter=500) #multinomial\n",
        "clf.fit(X_train, y_train)\n",
        "\n",
        "# Evaluate\n",
        "y_pred = clf.predict(X_test)\n",
        "print(classification_report(y_test, y_pred))\n",
        "\n",
        "acc_mnl = round(accuracy_score(y_test, y_pred),4)\n",
        "print(\"\\nAccuracy:\", acc_mnl)\n"
      ],
      "metadata": {
        "colab": {
          "base_uri": "https://localhost:8080/"
        },
        "id": "rFkrI3FGW0e7",
        "outputId": "f71a52b4-d363-424e-95f2-99f559133cfb"
      },
      "execution_count": 8,
      "outputs": [
        {
          "output_type": "stream",
          "name": "stdout",
          "text": [
            "              precision    recall  f1-score   support\n",
            "\n",
            "           0       1.00      0.84      0.91        25\n",
            "           1       0.78      1.00      0.88        42\n",
            "           2       0.67      0.29      0.40        14\n",
            "\n",
            "    accuracy                           0.83        81\n",
            "   macro avg       0.81      0.71      0.73        81\n",
            "weighted avg       0.83      0.83      0.80        81\n",
            "\n",
            "\n",
            "Accuracy: 0.8272\n"
          ]
        }
      ]
    },
    {
      "cell_type": "markdown",
      "source": [
        "#### 5.3 Evaluation of Multinomial Logistic Regression with Cross Validation"
      ],
      "metadata": {
        "id": "j2_p7Ai2HF7k"
      }
    },
    {
      "cell_type": "code",
      "source": [
        "# --- Evaluation of multinomial logistic regression with CV for prediction of rare species ---\n",
        "\n",
        "# # Cross-validation setup\n",
        "X = []\n",
        "y = []\n",
        "groups = []  # file-level grouping\n",
        "\n",
        "for label, folder_path in folders.items():\n",
        "    for file in os.listdir(folder_path):\n",
        "        if file.endswith('.npy'):\n",
        "            filepath = os.path.join(folder_path, file)\n",
        "            data = np.load(filepath)\n",
        "            for row in data:\n",
        "                X.append(row)\n",
        "                y.append(label)\n",
        "                groups.append(file)  # group by filename\n",
        "\n",
        "X = np.array(X)\n",
        "y = np.array(y)\n",
        "groups = np.array(groups)\n",
        "\n",
        "cv = StratifiedGroupKFold(n_splits=5)\n",
        "\n",
        "# Evaluate model with cross validation\n",
        "accuracies = []\n",
        "fold = 1\n",
        "for train_idx, test_idx in cv.split(X, y, groups):\n",
        "    print(f\"\\n=== Fold {fold} ===\")\n",
        "\n",
        "    X_train, X_test = X[train_idx], X[test_idx]\n",
        "    y_train, y_test = y[train_idx], y[test_idx]\n",
        "\n",
        "    clf = LogisticRegression(solver='lbfgs', max_iter=500) #multinomial\n",
        "    clf.fit(X_train, y_train)\n",
        "    y_pred = clf.predict(X_test)\n",
        "\n",
        "    acc = accuracy_score(y_test, y_pred)\n",
        "    accuracies.append(acc)\n",
        "\n",
        "    print(classification_report(y_test, y_pred))\n",
        "    fold += 1\n",
        "\n",
        "# Print average accuracy\n",
        "avg_acc_mnl = round(np.mean(accuracies), 4)\n",
        "print(\"Average Accuracy:\", avg_acc_mnl)\n"
      ],
      "metadata": {
        "colab": {
          "base_uri": "https://localhost:8080/"
        },
        "id": "6_PL_boybUdP",
        "outputId": "e65b77a6-ac4d-4f95-f677-570c1ee84c39"
      },
      "execution_count": 9,
      "outputs": [
        {
          "output_type": "stream",
          "name": "stdout",
          "text": [
            "\n",
            "=== Fold 1 ===\n",
            "              precision    recall  f1-score   support\n",
            "\n",
            "           0       0.80      0.21      0.33        19\n",
            "           1       0.68      1.00      0.81        40\n",
            "           2       1.00      0.64      0.78        14\n",
            "\n",
            "    accuracy                           0.73        73\n",
            "   macro avg       0.83      0.62      0.64        73\n",
            "weighted avg       0.77      0.73      0.68        73\n",
            "\n",
            "\n",
            "=== Fold 2 ===\n",
            "              precision    recall  f1-score   support\n",
            "\n",
            "           0       0.94      1.00      0.97        17\n",
            "           1       1.00      1.00      1.00        40\n",
            "           2       1.00      0.93      0.96        14\n",
            "\n",
            "    accuracy                           0.99        71\n",
            "   macro avg       0.98      0.98      0.98        71\n",
            "weighted avg       0.99      0.99      0.99        71\n",
            "\n",
            "\n",
            "=== Fold 3 ===\n",
            "              precision    recall  f1-score   support\n",
            "\n",
            "           0       0.78      1.00      0.88        29\n",
            "           1       1.00      0.83      0.91        24\n",
            "           2       0.90      0.64      0.75        14\n",
            "\n",
            "    accuracy                           0.87        67\n",
            "   macro avg       0.89      0.83      0.85        67\n",
            "weighted avg       0.89      0.87      0.86        67\n",
            "\n",
            "\n",
            "=== Fold 4 ===\n",
            "              precision    recall  f1-score   support\n",
            "\n",
            "           0       1.00      0.85      0.92        20\n",
            "           1       0.69      1.00      0.82        25\n",
            "           2       0.67      0.29      0.40        14\n",
            "\n",
            "    accuracy                           0.78        59\n",
            "   macro avg       0.79      0.71      0.71        59\n",
            "weighted avg       0.79      0.78      0.75        59\n",
            "\n",
            "\n",
            "=== Fold 5 ===\n",
            "              precision    recall  f1-score   support\n",
            "\n",
            "           0       1.00      0.94      0.97        17\n",
            "           1       0.96      1.00      0.98        25\n",
            "           2       0.94      0.94      0.94        18\n",
            "\n",
            "    accuracy                           0.97        60\n",
            "   macro avg       0.97      0.96      0.96        60\n",
            "weighted avg       0.97      0.97      0.97        60\n",
            "\n",
            "Average Accuracy: 0.8648\n"
          ]
        }
      ]
    },
    {
      "cell_type": "markdown",
      "source": [
        "#### 5.4 Evaluation of KNN model"
      ],
      "metadata": {
        "id": "Vx8GETeQHPCN"
      }
    },
    {
      "cell_type": "code",
      "source": [
        "# --- Evaluation of KNN for prediction of rare species---\n",
        "\n",
        "# Train the model (K=3)\n",
        "knn = KNeighborsClassifier(n_neighbors=3)\n",
        "knn.fit(X_train, y_train)\n",
        "\n",
        "# Evaluate\n",
        "y_pred_knn = knn.predict(X_test)\n",
        "print(classification_report(y_test, y_pred_knn))\n",
        "\n",
        "acc_knn = round(accuracy_score(y_test, y_pred),4)\n",
        "print(\"\\nAccuracy:\", acc_knn)\n"
      ],
      "metadata": {
        "colab": {
          "base_uri": "https://localhost:8080/"
        },
        "id": "_mNoDP-MXIii",
        "outputId": "46cea650-c8a6-4934-9374-7f2594532996"
      },
      "execution_count": 10,
      "outputs": [
        {
          "output_type": "stream",
          "name": "stdout",
          "text": [
            "              precision    recall  f1-score   support\n",
            "\n",
            "           0       0.93      0.76      0.84        17\n",
            "           1       0.58      1.00      0.74        25\n",
            "           2       0.67      0.11      0.19        18\n",
            "\n",
            "    accuracy                           0.67        60\n",
            "   macro avg       0.73      0.63      0.59        60\n",
            "weighted avg       0.71      0.67      0.60        60\n",
            "\n",
            "\n",
            "Accuracy: 0.9667\n"
          ]
        }
      ]
    },
    {
      "cell_type": "markdown",
      "source": [
        "#### 5.4 Evaluation of KNN model with Cross Validation"
      ],
      "metadata": {
        "id": "T-LmKuvjHdb1"
      }
    },
    {
      "cell_type": "code",
      "source": [
        "# --- Evaluation of KNN with CV for prediction of rare species---\n",
        "\n",
        "\n",
        "# Set up Stratified Group K-Fold CV\n",
        "cv = StratifiedGroupKFold(n_splits=5)\n",
        "\n",
        "accuracies = []\n",
        "fold = 1\n",
        "for train_idx, test_idx in cv.split(X, y, groups):\n",
        "    print(f\"\\n=== Fold {fold} ===\")\n",
        "\n",
        "    X_train, X_test = X[train_idx], X[test_idx]\n",
        "    y_train, y_test = y[train_idx], y[test_idx]\n",
        "\n",
        "    # Train and evaluate KNN\n",
        "    knn = KNeighborsClassifier(n_neighbors=3)\n",
        "    knn.fit(X_train, y_train)\n",
        "    y_pred_knn = knn.predict(X_test)\n",
        "\n",
        "    acc = accuracy_score(y_test, y_pred_knn)\n",
        "    accuracies.append(acc)\n",
        "\n",
        "    print(classification_report(y_test, y_pred_knn, zero_division=0))\n",
        "    fold += 1\n",
        "\n",
        "# Print average accuracy\n",
        "avg_acc_knn = round(np.mean(accuracies), 4)\n",
        "print(\"Average Accuracy:\", avg_acc_knn)\n"
      ],
      "metadata": {
        "colab": {
          "base_uri": "https://localhost:8080/"
        },
        "id": "JEOINpQTb0iJ",
        "outputId": "4494d70f-f7ea-4d44-d277-be96787c8de7"
      },
      "execution_count": 11,
      "outputs": [
        {
          "output_type": "stream",
          "name": "stdout",
          "text": [
            "\n",
            "=== Fold 1 ===\n",
            "              precision    recall  f1-score   support\n",
            "\n",
            "           0       1.00      0.05      0.10        19\n",
            "           1       0.62      1.00      0.77        40\n",
            "           2       1.00      0.57      0.73        14\n",
            "\n",
            "    accuracy                           0.67        73\n",
            "   macro avg       0.88      0.54      0.53        73\n",
            "weighted avg       0.79      0.67      0.59        73\n",
            "\n",
            "\n",
            "=== Fold 2 ===\n",
            "              precision    recall  f1-score   support\n",
            "\n",
            "           0       1.00      0.94      0.97        17\n",
            "           1       0.91      1.00      0.95        40\n",
            "           2       1.00      0.79      0.88        14\n",
            "\n",
            "    accuracy                           0.94        71\n",
            "   macro avg       0.97      0.91      0.93        71\n",
            "weighted avg       0.95      0.94      0.94        71\n",
            "\n",
            "\n",
            "=== Fold 3 ===\n",
            "              precision    recall  f1-score   support\n",
            "\n",
            "           0       0.93      0.97      0.95        29\n",
            "           1       0.70      0.96      0.81        24\n",
            "           2       1.00      0.29      0.44        14\n",
            "\n",
            "    accuracy                           0.82        67\n",
            "   macro avg       0.88      0.74      0.73        67\n",
            "weighted avg       0.86      0.82      0.79        67\n",
            "\n",
            "\n",
            "=== Fold 4 ===\n",
            "              precision    recall  f1-score   support\n",
            "\n",
            "           0       1.00      0.55      0.71        20\n",
            "           1       0.57      1.00      0.72        25\n",
            "           2       1.00      0.29      0.44        14\n",
            "\n",
            "    accuracy                           0.68        59\n",
            "   macro avg       0.86      0.61      0.63        59\n",
            "weighted avg       0.82      0.68      0.65        59\n",
            "\n",
            "\n",
            "=== Fold 5 ===\n",
            "              precision    recall  f1-score   support\n",
            "\n",
            "           0       0.93      0.76      0.84        17\n",
            "           1       0.58      1.00      0.74        25\n",
            "           2       0.67      0.11      0.19        18\n",
            "\n",
            "    accuracy                           0.67        60\n",
            "   macro avg       0.73      0.63      0.59        60\n",
            "weighted avg       0.71      0.67      0.60        60\n",
            "\n",
            "Average Accuracy: 0.7561\n"
          ]
        }
      ]
    },
    {
      "cell_type": "markdown",
      "source": [
        "#### 5.5 Evaluation of Few Shot Learning"
      ],
      "metadata": {
        "id": "DNbD7L26Hju1"
      }
    },
    {
      "cell_type": "code",
      "source": [
        "# --- Evaluation of few-shot learning for prediction of rare species---\n",
        "# The simpliest version using nearest neighbor with cosine similarity.\n",
        "\n",
        "def few_shot_predict(X_train, y_train, X_query, k=3):\n",
        "    similarities = cosine_similarity(X_query, X_train)\n",
        "    predictions = []\n",
        "    for sim_row in similarities:\n",
        "        top_k_indices = sim_row.argsort()[-k:][::-1]\n",
        "        top_k_labels = y_train[top_k_indices]\n",
        "        predicted_label = Counter(top_k_labels).most_common(1)[0][0]\n",
        "        predictions.append(predicted_label)\n",
        "    return predictions\n",
        "\n",
        "y_pred_fewshot = few_shot_predict(X_train, y_train, X_test, k=3)\n",
        "print(classification_report(y_test, y_pred_fewshot))\n",
        "\n",
        "acc_fewshot = round(accuracy_score(y_test, y_pred),4)\n",
        "print(\"\\nAccuracy:\", acc_fewshot)\n"
      ],
      "metadata": {
        "colab": {
          "base_uri": "https://localhost:8080/"
        },
        "id": "lJxkSgjyXODQ",
        "outputId": "cc20a136-fb3f-4fa5-e7ad-4032436da435"
      },
      "execution_count": 12,
      "outputs": [
        {
          "output_type": "stream",
          "name": "stdout",
          "text": [
            "              precision    recall  f1-score   support\n",
            "\n",
            "           0       0.94      0.94      0.94        17\n",
            "           1       0.83      0.96      0.89        25\n",
            "           2       0.93      0.72      0.81        18\n",
            "\n",
            "    accuracy                           0.88        60\n",
            "   macro avg       0.90      0.87      0.88        60\n",
            "weighted avg       0.89      0.88      0.88        60\n",
            "\n",
            "\n",
            "Accuracy: 0.9667\n"
          ]
        }
      ]
    },
    {
      "cell_type": "markdown",
      "source": [
        "#### 5.6 Evaluation of Few Shot Learning with Cross Validation"
      ],
      "metadata": {
        "id": "h696js1QHqqb"
      }
    },
    {
      "cell_type": "code",
      "source": [
        "# --- Evaluation of few-shot learning with CV for prediction of rare species---\n",
        "\n",
        "cv = StratifiedGroupKFold(n_splits=5)\n",
        "accuracies = []\n",
        "fold = 1\n",
        "for train_idx, test_idx in cv.split(X, y, groups):\n",
        "    print(f\"\\n=== Fold {fold} ===\")\n",
        "    X_train, X_test = X[train_idx], X[test_idx]\n",
        "    y_train, y_test = y[train_idx], y[test_idx]\n",
        "\n",
        "    y_pred = few_shot_predict(X_train, y_train, X_test, k=3)\n",
        "    acc = accuracy_score(y_test, y_pred)\n",
        "    accuracies.append(acc)\n",
        "\n",
        "    print(classification_report(y_test, y_pred, zero_division=0))\n",
        "    fold += 1\n",
        "\n",
        "\n",
        "# Print average accuracy\n",
        "avg_acc_fewshot = round(np.mean(accuracies), 4)\n",
        "print(\"Average Accuracy:\", avg_acc_fewshot)\n"
      ],
      "metadata": {
        "colab": {
          "base_uri": "https://localhost:8080/"
        },
        "id": "-oy6xr-3cNvT",
        "outputId": "d6d91cce-8681-48bb-dbd7-ea532f62975e"
      },
      "execution_count": 13,
      "outputs": [
        {
          "output_type": "stream",
          "name": "stdout",
          "text": [
            "\n",
            "=== Fold 1 ===\n",
            "              precision    recall  f1-score   support\n",
            "\n",
            "           0       0.00      0.00      0.00        19\n",
            "           1       0.63      1.00      0.78        40\n",
            "           2       1.00      0.71      0.83        14\n",
            "\n",
            "    accuracy                           0.68        73\n",
            "   macro avg       0.54      0.57      0.54        73\n",
            "weighted avg       0.54      0.68      0.59        73\n",
            "\n",
            "\n",
            "=== Fold 2 ===\n",
            "              precision    recall  f1-score   support\n",
            "\n",
            "           0       1.00      1.00      1.00        17\n",
            "           1       0.98      1.00      0.99        40\n",
            "           2       1.00      0.93      0.96        14\n",
            "\n",
            "    accuracy                           0.99        71\n",
            "   macro avg       0.99      0.98      0.98        71\n",
            "weighted avg       0.99      0.99      0.99        71\n",
            "\n",
            "\n",
            "=== Fold 3 ===\n",
            "              precision    recall  f1-score   support\n",
            "\n",
            "           0       0.97      0.97      0.97        29\n",
            "           1       0.86      1.00      0.92        24\n",
            "           2       1.00      0.71      0.83        14\n",
            "\n",
            "    accuracy                           0.93        67\n",
            "   macro avg       0.94      0.89      0.91        67\n",
            "weighted avg       0.93      0.93      0.92        67\n",
            "\n",
            "\n",
            "=== Fold 4 ===\n",
            "              precision    recall  f1-score   support\n",
            "\n",
            "           0       1.00      0.90      0.95        20\n",
            "           1       0.68      1.00      0.81        25\n",
            "           2       1.00      0.29      0.44        14\n",
            "\n",
            "    accuracy                           0.80        59\n",
            "   macro avg       0.89      0.73      0.73        59\n",
            "weighted avg       0.86      0.80      0.77        59\n",
            "\n",
            "\n",
            "=== Fold 5 ===\n",
            "              precision    recall  f1-score   support\n",
            "\n",
            "           0       0.94      0.94      0.94        17\n",
            "           1       0.83      0.96      0.89        25\n",
            "           2       0.93      0.72      0.81        18\n",
            "\n",
            "    accuracy                           0.88        60\n",
            "   macro avg       0.90      0.87      0.88        60\n",
            "weighted avg       0.89      0.88      0.88        60\n",
            "\n",
            "Average Accuracy: 0.8552\n"
          ]
        }
      ]
    },
    {
      "cell_type": "markdown",
      "source": [
        "#### 5.7 Evaluation of Neural Network (MLP)"
      ],
      "metadata": {
        "id": "u8v4d0dKHv89"
      }
    },
    {
      "cell_type": "code",
      "source": [
        "# --- Evaluation of MLP (Multilayer Perceptron) for prediction of rare species---\n",
        "# A type of feedforward neural network suitable for small samples\n",
        "\n",
        "# Train the model\n",
        "clf = MLPClassifier(hidden_layer_sizes=(256, 128), max_iter=300, random_state=42)\n",
        "clf.fit(X_train, y_train)\n",
        "\n",
        "# Evaluate\n",
        "print(classification_report(y_test, clf.predict(X_test)))\n",
        "\n",
        "acc_mlp = round(accuracy_score(y_test, y_pred),4)\n",
        "print(\"\\nAccuracy:\", acc_mlp)\n"
      ],
      "metadata": {
        "colab": {
          "base_uri": "https://localhost:8080/"
        },
        "id": "ybSn4ruDmySl",
        "outputId": "2c4f64f5-ed30-462a-a153-b0168d6a9b98"
      },
      "execution_count": 14,
      "outputs": [
        {
          "output_type": "stream",
          "name": "stdout",
          "text": [
            "              precision    recall  f1-score   support\n",
            "\n",
            "           0       1.00      1.00      1.00        17\n",
            "           1       0.81      1.00      0.89        25\n",
            "           2       1.00      0.67      0.80        18\n",
            "\n",
            "    accuracy                           0.90        60\n",
            "   macro avg       0.94      0.89      0.90        60\n",
            "weighted avg       0.92      0.90      0.90        60\n",
            "\n",
            "\n",
            "Accuracy: 0.8833\n"
          ]
        }
      ]
    },
    {
      "cell_type": "markdown",
      "source": [
        "#### 5.8 Evaluation of Neural Network (MLP) with Cross Validation"
      ],
      "metadata": {
        "id": "ivg8QLWVH9F3"
      }
    },
    {
      "cell_type": "code",
      "source": [
        "# --- Evaluation of MLP (Multilayer Perceptron) with CV for prediction of rare species---\n",
        "\n",
        "fold = 1\n",
        "accuracies = []\n",
        "for train_idx, test_idx in cv.split(X, y, groups):\n",
        "    print(f\"\\n=== Fold {fold} ===\")\n",
        "\n",
        "    X_train, X_test = X[train_idx], X[test_idx]\n",
        "    y_train, y_test = y[train_idx], y[test_idx]\n",
        "\n",
        "    clf = MLPClassifier(hidden_layer_sizes=(128, 64), max_iter=300, random_state=42)\n",
        "    clf.fit(X_train, y_train)\n",
        "    y_pred = clf.predict(X_test)\n",
        "\n",
        "    acc = accuracy_score(y_test, y_pred)\n",
        "    accuracies.append(acc)\n",
        "\n",
        "    print(pd.DataFrame(classification_report(y_test, y_pred, output_dict=True)).transpose())\n",
        "    fold += 1\n",
        "\n",
        "# Print average accuracy\n",
        "avg_acc_mlp = round(np.mean(accuracies), 4)\n",
        "print(\"\\nAverage Accuracy:\", avg_acc_mlp)\n",
        ""
      ],
      "metadata": {
        "colab": {
          "base_uri": "https://localhost:8080/"
        },
        "id": "b7rVumWFmzAg",
        "outputId": "3961ba6f-f2e5-47e3-f299-dd5aa7519eae"
      },
      "execution_count": 15,
      "outputs": [
        {
          "output_type": "stream",
          "name": "stdout",
          "text": [
            "\n",
            "=== Fold 1 ===\n"
          ]
        },
        {
          "output_type": "stream",
          "name": "stderr",
          "text": [
            "<frozen importlib._bootstrap>:1047: ImportWarning: _PyDrive2ImportHook.find_spec() not found; falling back to find_module()\n",
            "<frozen importlib._bootstrap>:1047: ImportWarning: _PyDriveImportHook.find_spec() not found; falling back to find_module()\n",
            "<frozen importlib._bootstrap>:1047: ImportWarning: _BokehImportHook.find_spec() not found; falling back to find_module()\n"
          ]
        },
        {
          "output_type": "stream",
          "name": "stdout",
          "text": [
            "              precision    recall  f1-score    support\n",
            "0              0.857143  0.315789  0.461538  19.000000\n",
            "1              0.740741  1.000000  0.851064  40.000000\n",
            "2              0.916667  0.785714  0.846154  14.000000\n",
            "accuracy       0.780822  0.780822  0.780822   0.780822\n",
            "macro avg      0.838183  0.700501  0.719585  73.000000\n",
            "weighted avg   0.804776  0.780822  0.748739  73.000000\n",
            "\n",
            "=== Fold 2 ===\n",
            "              precision    recall  f1-score    support\n",
            "0              0.944444  1.000000  0.971429  17.000000\n",
            "1              1.000000  0.975000  0.987342  40.000000\n",
            "2              0.928571  0.928571  0.928571  14.000000\n",
            "accuracy       0.971831  0.971831  0.971831   0.971831\n",
            "macro avg      0.957672  0.967857  0.962447  71.000000\n",
            "weighted avg   0.972613  0.971831  0.971943  71.000000\n",
            "\n",
            "=== Fold 3 ===\n",
            "              precision    recall  f1-score    support\n",
            "0              0.828571  1.000000  0.906250  29.000000\n",
            "1              1.000000  0.916667  0.956522  24.000000\n",
            "2              0.900000  0.642857  0.750000  14.000000\n",
            "accuracy       0.895522  0.895522  0.895522   0.895522\n",
            "macro avg      0.909524  0.853175  0.870924  67.000000\n",
            "weighted avg   0.904904  0.895522  0.891609  67.000000\n",
            "\n",
            "=== Fold 4 ===\n",
            "              precision    recall  f1-score    support\n",
            "0              1.000000  0.800000  0.888889  20.000000\n",
            "1              0.714286  1.000000  0.833333  25.000000\n",
            "2              0.500000  0.285714  0.363636  14.000000\n",
            "accuracy       0.762712  0.762712  0.762712   0.762712\n",
            "macro avg      0.738095  0.695238  0.695286  59.000000\n",
            "weighted avg   0.760291  0.762712  0.740712  59.000000\n",
            "\n",
            "=== Fold 5 ===\n",
            "              precision    recall  f1-score    support\n",
            "0              0.941176  0.941176  0.941176  17.000000\n",
            "1              0.960000  0.960000  0.960000  25.000000\n",
            "2              1.000000  1.000000  1.000000  18.000000\n",
            "accuracy       0.966667  0.966667  0.966667   0.966667\n",
            "macro avg      0.967059  0.967059  0.967059  60.000000\n",
            "weighted avg   0.966667  0.966667  0.966667  60.000000\n",
            "\n",
            "Average Accuracy: 0.8755\n"
          ]
        }
      ]
    },
    {
      "cell_type": "markdown",
      "source": [
        "### VI. Summary of Model Evaluation Results"
      ],
      "metadata": {
        "id": "kYN2sECeIcaU"
      }
    },
    {
      "cell_type": "code",
      "source": [
        "# Summary of accuracy results\n",
        "results_table = pd.DataFrame({\n",
        "    \"Model (with Cross Validation)\": [\"Multinomial Logistic\", \"K-Nearest Neighbors\", \"Few-Shot Learning\", \"Multilayer Perceptron\"],\n",
        "    \"Avg Accuracy\": [avg_acc_mnl, avg_acc_knn, avg_acc_fewshot, avg_acc_mlp]\n",
        "})\n",
        "\n",
        "# Print results\n",
        "print(results_table)\n"
      ],
      "metadata": {
        "colab": {
          "base_uri": "https://localhost:8080/"
        },
        "id": "3CR-34OxESue",
        "outputId": "b49660cc-14be-4152-8ec6-07e5c1e39a04"
      },
      "execution_count": 16,
      "outputs": [
        {
          "output_type": "stream",
          "name": "stdout",
          "text": [
            "  Model (with Cross Validation)  Avg Accuracy\n",
            "0          Multinomial Logistic        0.8648\n",
            "1           K-Nearest Neighbors        0.7561\n",
            "2             Few-Shot Learning        0.8552\n",
            "3         Multilayer Perceptron        0.8755\n"
          ]
        }
      ]
    },
    {
      "cell_type": "markdown",
      "source": [
        "### VII. Selection of the Best Model Using Transfer Learning for Rare Species Prediction\n",
        "\n",
        "Based on cross-validated performance using BirdNET embeddings, the Multilayer Perceptron (MLP) achieved the highest average accuracy and is selected as the most reliable model for identifying our rare bird species."
      ],
      "metadata": {
        "id": "eX4XOZvEIwkL"
      }
    },
    {
      "cell_type": "code",
      "source": [
        "# Train the final model on all data\n",
        "final_mlp = MLPClassifier(hidden_layer_sizes=(128, 64), max_iter=300, random_state=42)\n",
        "final_mlp.fit(X_all_data, y_all_data)\n",
        "\n",
        "# Save the model\n",
        "joblib.dump(final_mlp, \"mlp_model_birdnet.pkl\")\n",
        "print(\"MLP model saved as 'mlp_model_birdnet.pkl'\")\n"
      ],
      "metadata": {
        "colab": {
          "base_uri": "https://localhost:8080/"
        },
        "id": "D3oFLuvSC5CB",
        "outputId": "c8b7932a-464c-4cab-ce9b-e7959244ab67"
      },
      "execution_count": 17,
      "outputs": [
        {
          "output_type": "stream",
          "name": "stdout",
          "text": [
            "MLP model saved as 'mlp_model_birdnet.pkl'\n"
          ]
        }
      ]
    }
  ]
}